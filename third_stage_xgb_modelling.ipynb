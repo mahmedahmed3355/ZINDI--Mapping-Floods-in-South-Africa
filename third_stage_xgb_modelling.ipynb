{
  "metadata": {
    "kernelspec": {
      "name": "python3",
      "display_name": "Python 3",
      "language": "python"
    },
    "language_info": {
      "name": "python",
      "version": "3.10.12",
      "mimetype": "text/x-python",
      "codemirror_mode": {
        "name": "ipython",
        "version": 3
      },
      "pygments_lexer": "ipython3",
      "nbconvert_exporter": "python",
      "file_extension": ".py"
    },
    "accelerator": "GPU",
    "colab": {
      "gpuType": "T4",
      "machine_shape": "hm",
      "provenance": []
    },
    "kaggle": {
      "accelerator": "nvidiaTeslaT4",
      "dataSources": [
        {
          "sourceId": 10750135,
          "sourceType": "datasetVersion",
          "datasetId": 6220790
        }
      ],
      "dockerImageVersionId": 30887,
      "isInternetEnabled": true,
      "language": "python",
      "sourceType": "notebook",
      "isGpuEnabled": true
    }
  },
  "nbformat_minor": 0,
  "nbformat": 4,
  "cells": [
    {
      "cell_type": "code",
      "source": [
        "import pandas as pd\n",
        "import numpy as np\n",
        "from sklearn.model_selection import StratifiedKFold, StratifiedGroupKFold\n",
        "from sklearn.metrics import log_loss, roc_auc_score\n",
        "\n",
        "\n",
        "import matplotlib.pyplot as plt\n",
        "import seaborn as sns\n",
        "\n",
        "\n",
        "from itertools import combinations\n",
        "import random\n",
        "\n",
        "from PIL import Image\n",
        "\n",
        "import warnings\n",
        "warnings.filterwarnings(\"ignore\")\n",
        "\n",
        "\n"
      ],
      "metadata": {
        "id": "xvXbKgvd1dDh",
        "trusted": true,
        "execution": {
          "iopub.status.busy": "2025-02-17T11:01:58.776913Z",
          "iopub.execute_input": "2025-02-17T11:01:58.777193Z",
          "iopub.status.idle": "2025-02-17T11:02:00.073532Z",
          "shell.execute_reply.started": "2025-02-17T11:01:58.777156Z",
          "shell.execute_reply": "2025-02-17T11:02:00.072656Z"
        }
      },
      "outputs": [],
      "execution_count": null
    },
    {
      "cell_type": "code",
      "source": [
        "base_path = \"/kaggle/input/final-deepmind-comp-dataset/final_deepmind_comp_dataset/zindi_data/\"\n",
        "additional_path = \"/kaggle/input/final-deepmind-comp-dataset/final_deepmind_comp_dataset/image_classifier_results/\"\n",
        "train = pd.read_csv(base_path + \"Train.csv\")\n",
        "test = pd.read_csv(base_path + \"Test.csv\")\n",
        "train_with_cv_results = pd.read_csv(additional_path + \"train_with_cv_results.csv\")[['location_id', 'flood_probability']]\n",
        "test_with_cv_results = pd.read_csv(additional_path + \"test_with_cv_results.csv\")[['location_id', 'flood_probability',]]\n",
        "submission = pd.read_csv(base_path + \"SampleSubmission.csv\")\n",
        "images = np.load(base_path + \"composite_images.npz\")\n",
        "display(train.head(), train.shape, train_with_cv_results.head(), train_with_cv_results.shape, test.head(), test.shape)\n"
      ],
      "metadata": {
        "id": "r0jMp99i1zSE",
        "outputId": "9f988411-6d78-474a-d7cc-fc872baf3a40",
        "trusted": true,
        "execution": {
          "iopub.status.busy": "2025-02-17T11:02:00.074762Z",
          "iopub.execute_input": "2025-02-17T11:02:00.075174Z",
          "iopub.status.idle": "2025-02-17T11:02:00.940728Z",
          "shell.execute_reply.started": "2025-02-17T11:02:00.075138Z",
          "shell.execute_reply": "2025-02-17T11:02:00.939810Z"
        }
      },
      "outputs": [
        {
          "output_type": "display_data",
          "data": {
            "text/plain": "              event_id  precipitation  label\n0  id_spictby0jfsb_X_0       0.000000      0\n1  id_spictby0jfsb_X_1       0.095438      0\n2  id_spictby0jfsb_X_2       1.949560      0\n3  id_spictby0jfsb_X_3       3.232160      0\n4  id_spictby0jfsb_X_4       0.000000      0",
            "text/html": "<div>\n<style scoped>\n    .dataframe tbody tr th:only-of-type {\n        vertical-align: middle;\n    }\n\n    .dataframe tbody tr th {\n        vertical-align: top;\n    }\n\n    .dataframe thead th {\n        text-align: right;\n    }\n</style>\n<table border=\"1\" class=\"dataframe\">\n  <thead>\n    <tr style=\"text-align: right;\">\n      <th></th>\n      <th>event_id</th>\n      <th>precipitation</th>\n      <th>label</th>\n    </tr>\n  </thead>\n  <tbody>\n    <tr>\n      <th>0</th>\n      <td>id_spictby0jfsb_X_0</td>\n      <td>0.000000</td>\n      <td>0</td>\n    </tr>\n    <tr>\n      <th>1</th>\n      <td>id_spictby0jfsb_X_1</td>\n      <td>0.095438</td>\n      <td>0</td>\n    </tr>\n    <tr>\n      <th>2</th>\n      <td>id_spictby0jfsb_X_2</td>\n      <td>1.949560</td>\n      <td>0</td>\n    </tr>\n    <tr>\n      <th>3</th>\n      <td>id_spictby0jfsb_X_3</td>\n      <td>3.232160</td>\n      <td>0</td>\n    </tr>\n    <tr>\n      <th>4</th>\n      <td>id_spictby0jfsb_X_4</td>\n      <td>0.000000</td>\n      <td>0</td>\n    </tr>\n  </tbody>\n</table>\n</div>"
          },
          "metadata": {}
        },
        {
          "output_type": "display_data",
          "data": {
            "text/plain": "(492020, 3)"
          },
          "metadata": {}
        },
        {
          "output_type": "display_data",
          "data": {
            "text/plain": "       location_id  flood_probability\n0  id_05v6zjuaf300           0.997973\n1  id_06zma02zeea7           0.006545\n2  id_08w2po0cz63y           0.006836\n3  id_092vetuky9ku           0.034579\n4  id_0987b1h04r48           0.999697",
            "text/html": "<div>\n<style scoped>\n    .dataframe tbody tr th:only-of-type {\n        vertical-align: middle;\n    }\n\n    .dataframe tbody tr th {\n        vertical-align: top;\n    }\n\n    .dataframe thead th {\n        text-align: right;\n    }\n</style>\n<table border=\"1\" class=\"dataframe\">\n  <thead>\n    <tr style=\"text-align: right;\">\n      <th></th>\n      <th>location_id</th>\n      <th>flood_probability</th>\n    </tr>\n  </thead>\n  <tbody>\n    <tr>\n      <th>0</th>\n      <td>id_05v6zjuaf300</td>\n      <td>0.997973</td>\n    </tr>\n    <tr>\n      <th>1</th>\n      <td>id_06zma02zeea7</td>\n      <td>0.006545</td>\n    </tr>\n    <tr>\n      <th>2</th>\n      <td>id_08w2po0cz63y</td>\n      <td>0.006836</td>\n    </tr>\n    <tr>\n      <th>3</th>\n      <td>id_092vetuky9ku</td>\n      <td>0.034579</td>\n    </tr>\n    <tr>\n      <th>4</th>\n      <td>id_0987b1h04r48</td>\n      <td>0.999697</td>\n    </tr>\n  </tbody>\n</table>\n</div>"
          },
          "metadata": {}
        },
        {
          "output_type": "display_data",
          "data": {
            "text/plain": "(674, 2)"
          },
          "metadata": {}
        },
        {
          "output_type": "display_data",
          "data": {
            "text/plain": "              event_id  precipitation\n0  id_j7b6sokflo4k_X_0        0.00000\n1  id_j7b6sokflo4k_X_1        3.01864\n2  id_j7b6sokflo4k_X_2        0.00000\n3  id_j7b6sokflo4k_X_3       16.61520\n4  id_j7b6sokflo4k_X_4        2.56706",
            "text/html": "<div>\n<style scoped>\n    .dataframe tbody tr th:only-of-type {\n        vertical-align: middle;\n    }\n\n    .dataframe tbody tr th {\n        vertical-align: top;\n    }\n\n    .dataframe thead th {\n        text-align: right;\n    }\n</style>\n<table border=\"1\" class=\"dataframe\">\n  <thead>\n    <tr style=\"text-align: right;\">\n      <th></th>\n      <th>event_id</th>\n      <th>precipitation</th>\n    </tr>\n  </thead>\n  <tbody>\n    <tr>\n      <th>0</th>\n      <td>id_j7b6sokflo4k_X_0</td>\n      <td>0.00000</td>\n    </tr>\n    <tr>\n      <th>1</th>\n      <td>id_j7b6sokflo4k_X_1</td>\n      <td>3.01864</td>\n    </tr>\n    <tr>\n      <th>2</th>\n      <td>id_j7b6sokflo4k_X_2</td>\n      <td>0.00000</td>\n    </tr>\n    <tr>\n      <th>3</th>\n      <td>id_j7b6sokflo4k_X_3</td>\n      <td>16.61520</td>\n    </tr>\n    <tr>\n      <th>4</th>\n      <td>id_j7b6sokflo4k_X_4</td>\n      <td>2.56706</td>\n    </tr>\n  </tbody>\n</table>\n</div>"
          },
          "metadata": {}
        },
        {
          "output_type": "display_data",
          "data": {
            "text/plain": "(163520, 2)"
          },
          "metadata": {}
        }
      ],
      "execution_count": null
    },
    {
      "cell_type": "code",
      "source": [
        "# List all keys in the .npz file\n",
        "print(\"Keys in the .npz file:\", images.files)\n",
        "\n",
        "# Access the first image array (adjust the key name as needed)\n",
        "key_name = images.files[0]  # Replace with the correct key if needed\n",
        "image_array = images[key_name]\n",
        "\n",
        "# Print the shape of the image\n",
        "print(\"Shape of the image array:\", image_array.shape)\n",
        "\n",
        "# Extract the number of bands (assumes shape is (height, width, bands))\n",
        "if image_array.ndim == 3:\n",
        "    num_bands = image_array.shape[2]\n",
        "    print(\"Number of bands in the image:\", num_bands)\n",
        "else:\n",
        "    print(\"The image array does not have multiple bands (2D array).\")"
      ],
      "metadata": {
        "id": "WtNUYhRKhRIF",
        "outputId": "2f15f193-93c9-4aeb-b496-5b48613102be",
        "trusted": true,
        "execution": {
          "iopub.status.busy": "2025-02-17T11:02:00.942369Z",
          "iopub.execute_input": "2025-02-17T11:02:00.942696Z",
          "iopub.status.idle": "2025-02-17T11:02:00.953680Z",
          "shell.execute_reply.started": "2025-02-17T11:02:00.942666Z",
          "shell.execute_reply": "2025-02-17T11:02:00.952842Z"
        }
      },
      "outputs": [
        {
          "name": "stdout",
          "text": "Keys in the .npz file: ['id_rhg5w8vmv3ny', 'id_rua8ey2jczl0', 'id_073l04ir88sn', 'id_wmkfqw7iwjmu', 'id_heri806er7xw', 'id_irft382nqvp0', 'id_ja1tvofxh403', 'id_2uyqsuz0anf7', 'id_h4hkhfp6ilg3', 'id_49o19mx5bbhc', 'id_g1tlrzptebsd', 'id_qg3xwgh1lfdd', 'id_595gz650j6u8', 'id_66akbt5q6bks', 'id_nmyx181qwsk3', 'id_stkvzvg77on0', 'id_1kctttnnhvjx', 'id_xk3049ov4j0u', 'id_f5e7zme7gqnb', 'id_61fh1d5zbsdr', 'id_sfedhmsqwbu4', 'id_oud1p540x3pe', 'id_iyay05bn5zwk', 'id_57cnhhuvhsxb', 'id_fi3md8cxzmp3', 'id_zgckftx7lo64', 'id_3f33h3wta3on', 'id_j7b6sokflo4k', 'id_m5wawccfyrn7', 'id_sww2v8tfqkrn', 'id_g0ydhtmd4ogx', 'id_aaf6d4a9hwq6', 'id_gt66wk2twhn3', 'id_8n80txb7wwsb', 'id_t437fhetcaf4', 'id_flkg8jcrzmrp', 'id_u5e7kr73e7k1', 'id_5i6fbm6h7y4e', 'id_pk95ni8fdeaq', 'id_vdzsn80c9e7r', 'id_f8pw6e0tebe5', 'id_j7moaw4bpjkp', 'id_omhl52u0te84', 'id_3ntxqfjssoln', 'id_5sq85iwd29vq', 'id_4e2iscrtbn5p', 'id_59uqistnu2di', 'id_0nu2nus290am', 'id_ukly29b2hds3', 'id_qgcksf3v8071', 'id_n07bvjlz6ekg', 'id_e2s7du67vt7q', 'id_dgr5btgft24y', 'id_dm4nb6pflahc', 'id_u8rv9fdkiva1', 'id_hr0t8j7yl3tq', 'id_4yxz8bbobszf', 'id_unblsji7af6n', 'id_jn6qrjt3zxlh', 'id_9fxv22nq4ul9', 'id_i81dq2kek3w9', 'id_ykzv6lzay9hf', 'id_bzb2jc3bd6d3', 'id_qo5uizgd5cst', 'id_1uehxi92ddcj', 'id_evzyjyluumjf', 'id_p911t96j9ci7', 'id_p3hhajpcdv09', 'id_yfll8zp8qrvg', 'id_qb7bq1q132px', 'id_o9iht471yl90', 'id_0mdchsqsdw17', 'id_lb9fhnnp0ock', 'id_m3m61p7nqi4b', 'id_r6dxxtkzxqmt', 'id_1a70zs9bv6wk', 'id_vc8ej5ytllya', 'id_jy3k7qcbz6oh', 'id_828flh0p0skc', 'id_i9eb8643vaqq', 'id_da931pwqkw62', 'id_d8a89i23tll3', 'id_6x9vvppgp5l3', 'id_neahwa8vttvu', 'id_c82yifu80egv', 'id_v3p5c14fmslf', 'id_0ajr0br1b046', 'id_bjtr1ysdljy0', 'id_ornufdngyetv', 'id_mfrl3o7ssxkq', 'id_iayct5lk9bl8', 'id_rztj5wuvkne9', 'id_23jayrwo1lpw', 'id_9frk4cfzrcmy', 'id_jnyqjcyqt1oc', 'id_k6e1ju2r8at5', 'id_xha0cn6c7www', 'id_ttw0k1i92xfh', 'id_9c77iy8olxfe', 'id_kca1fv5iilcw', 'id_oyx5k58jxhx5', 'id_povugysgnsfn', 'id_7fj6qgbsdlr7', 'id_36fvgt9xucnv', 'id_2nx1q5nrkdt4', 'id_uuvjh58cmd3j', 'id_uemzarlgha1y', 'id_aupns61r0a3l', 'id_m47hv1ozxhdm', 'id_i8g34eyjhvy4', 'id_2ylqmfhwpsxc', 'id_66mtzrw016r2', 'id_xt1lkqap5dww', 'id_zibfeb9w8fl5', 'id_h4lihism1qho', 'id_83i88dwy1dzj', 'id_2fm0hnopz5pt', 'id_knx35xbh33ri', 'id_b055fftwxq62', 'id_tukz1vq3jnzu', 'id_iko7l9oi4lx9', 'id_qiixc34jqet7', 'id_m2uv2yfstf27', 'id_yucmw8wa1hqc', 'id_a5yioyanrl6v', 'id_fjoq4prugvhi', 'id_ziwft2t934pz', 'id_dyxivl9a9y2z', 'id_z9ubchf4yqks', 'id_71do1cd2om0p', 'id_nmm9tgcowp30', 'id_0ees839cilxs', 'id_cnvhrfgxrgkk', 'id_iuuy5kyxcgxj', 'id_c32jcemk2nsp', 'id_5z11egf2wotm', 'id_7cimrhpyzht4', 'id_57f3g959g678', 'id_z50c06hxk9iw', 'id_3pulc5zcuw9v', 'id_6v9os65mg7ba', 'id_ru3pr3fezxlf', 'id_h4uzxpghvrdc', 'id_sf72jbbgay5x', 'id_0cpm4w3t78ic', 'id_y7l9sdxm2a2l', 'id_ttfnui9tlvza', 'id_y2mkd77eqcyr', 'id_c3sraqrml0nf', 'id_j3fsul68gk4i', 'id_jpaestll66km', 'id_dvpyp56fg04i', 'id_5oykp0ojhnqc', 'id_x4rjjwt7tjqu', 'id_5yd4z4ib8ah1', 'id_pcizr9bde84k', 'id_6st8cl07u33r', 'id_jgikq2ac9tc9', 'id_yg2oadpg4qs4', 'id_qp3yntnpr757', 'id_c3ekmymw727m', 'id_i5uow240qkj5', 'id_rugampgwjf7g', 'id_hrh979m5gimn', 'id_bhfubvd6avi7', 'id_p8jbknpyrk3d', 'id_b8f78putas3m', 'id_pr0v0ri2bqvg', 'id_p5ubwgtzf56t', 'id_s6tuy9n3s526', 'id_nvccpp48t6gv', 'id_x4v1eukizcva', 'id_slug2h3osctq', 'id_32vcdkph1af4', 'id_p8f40663jj3g', 'id_jvx77a7l4dgk', 'id_wyajsoi3o3y9', 'id_i3l9fbkupof3', 'id_2ip1afmi6yls', 'id_bec8hubl2wmp', 'id_ufvgji3dajvl', 'id_kfp65uuilh24', 'id_pds651u07zik', 'id_xuq1tjf8nfrz', 'id_g2s7pip5a3fu', 'id_dsw59zx6zts1', 'id_p29yb2qyo89m', 'id_28ld6vqvz55t', 'id_do9u9re4yl9i', 'id_yw7baxlzn0y5', 'id_zvdfc80cizdl', 'id_h56xkfmb8hj3', 'id_emu3cmnnnb8q', 'id_b2nubbu25cmk', 'id_tl36746ilbk8', 'id_aesdjlnzvfvk', 'id_fwj3ph6bedbd', 'id_5dhl5ecvc4ih', 'id_9vho4a4xu54w', 'id_tdk76np7cv7w', 'id_tzmxabhj864n', 'id_qdvc4fnqhq5j', 'id_49yw3t090joq', 'id_cwywvbmk56cy', 'id_b4fu7mafu90s', 'id_ypgal3hpzt1o', 'id_x5s49limublr', 'id_i7zayfwte0lp', 'id_5x7nq3jthofc', 'id_h4t1v1be6o1z', 'id_jrdp6w1m9gw7', 'id_e0qznvp6k19w', 'id_m7yfi2agkqmf', 'id_op0rt93c98if', 'id_y88cz457gcqd', 'id_pamzq7322u4k', 'id_x403f2wl2zpo', 'id_1pon8yln0hpm', 'id_v09vdz8maqmm', 'id_9zpfdmemy3mb', 'id_iqfq3xsadzik', 'id_a8dn9b6ah57i', 'id_u6b8jdvaguf5', 'id_kek4mtz83ckd', 'id_ie34zfmjxyna', 'id_xzqig79sdnca', 'id_towbn6cp42pw', 'id_xmpiswnd7vxt', 'id_qfi93q2d6pfs', 'id_uytvd22gdg61', 'id_lzb6ril0vil2', 'id_avphszctvao5', 'id_wcvi4medjt91', 'id_c23jvpv4bjzk', 'id_ncvqicb7h5fl', 'id_x8opoyr36vpj', 'id_kqo6t2wbz2dz', 'id_oqwqu5q4viju', 'id_8k7tbpsohqhk', 'id_9y2rdt7n7o1j', 'id_beqwxyk7aehr', 'id_ufrsm9y06w1u', 'id_g8u0qmt4f5nh', 'id_gok6mx5bajyq', 'id_df5nuc4bav7f', 'id_iqdiy5qjilsr', 'id_6wdlwj3u8yxb', 'id_dxm0grnpsory', 'id_bcxyi0fq8xim', 'id_vkctbm1d4ig0', 'id_ndm3u4ouu1lj', 'id_iu2ymldt4clz', 'id_f6mcsdqlqsyg', 'id_srn42f9a2dzd', 'id_ji1wt3f87qk8', 'id_aoz06kyzmowf', 'id_vvev3ev02blk', 'id_jzybh1gmfpcg', 'id_dtx31zkwmhnu', 'id_n5fljrauu8ou', 'id_waydwtcrhvi7', 'id_rf31s1g9mjox', 'id_17thg3w7u6kr', 'id_ecc9t7kk2qws', 'id_mjqu1it1ojyo', 'id_7hw2n1zzsvg3', 'id_mbxjsr6t7dzv', 'id_jhmff2a7u5un', 'id_tzg8mwydxvhj', 'id_xrgtmvm7lc0n', 'id_mp3ih39mgvhh', 'id_npistpdsj4cg', 'id_hjj5ej0jx1ii', 'id_iymgtfxbh1e8', 'id_ncpuqh14w1j3', 'id_nw81ijs6p5jb', 'id_3bfp1afj6ftx', 'id_r9fw39ecjelt', 'id_ed13oos00a3r', 'id_t1w6uausjdm9', 'id_15o99qmtax0f', 'id_23ojohzmtw8b', 'id_f1ggf7qf87ar', 'id_0unzx9oa670a', 'id_he2g1o2flcif', 'id_vxfvxd5jgom0', 'id_xvhsynpungxp', 'id_qmqb7p8xmsq3', 'id_s4e8y6u4zi9a', 'id_moou3bqlmdm1', 'id_7m5okbx6xe9u', 'id_gx6huyk2izuy', 'id_2r89hym4vayg', 'id_64m6gxox3122', 'id_u38ztk3o2lo6', 'id_vtqw9kjfkbyp', 'id_pmk59c7i37yq', 'id_o5muc3pxactm', 'id_2y4gyetezy5i', 'id_8d73kdun48q2', 'id_sseqzcsovbk5', 'id_4dm22bh7j6p6', 'id_r9hwr93sc6wd', 'id_yn8w3zmm0evj', 'id_pql9bi8ai1fd', 'id_mqnst0axdrem', 'id_ugjhmlh9v62n', 'id_f55nebe6jkyh', 'id_yvc1m1iusapi', 'id_160vlds1ik6e', 'id_e9su7e8j7h5f', 'id_fbtrtd2znx43', 'id_n1e955m5lwl7', 'id_vnq7ntqi2qzm', 'id_aq95yb8l44ze', 'id_on5xrt29nf8s', 'id_ewyomvl5ltg1', 'id_i1un4og9advo', 'id_t0cygytcv86w', 'id_hdm5dhxfdwyq', 'id_42bphdn4cueo', 'id_gly6faq71c9y', 'id_d2sw007kny5p', 'id_zk50aeed9xce', 'id_q9bmwttky7un', 'id_0b8wtfxfg90r', 'id_zvizc259vrnj', 'id_wyhow60ira5v', 'id_c0s3xzbydr4o', 'id_dlzd2p0wpax2', 'id_rf1armgmpjmv', 'id_3mdjzonpzj5i', 'id_e9rxp0f51yuw', 'id_jn8olkddhiva', 'id_xbxn4xdohqol', 'id_u9j8mbrmbuad', 'id_5myh3vrdhgbf', 'id_a1jebjyd6tr0', 'id_6mvb3plyh24z', 'id_zyy86zjmrnx2', 'id_vyhxxaaiqdyu', 'id_win8pl1p4txs', 'id_qontup8iphwj', 'id_5st7z9cvgjg2', 'id_lx0kabtcoolq', 'id_8305pu028kvq', 'id_vr7gdos782t3', 'id_hcbfgk5g2qwy', 'id_bjpfqrzgrgvc', 'id_ubax1w8qam4f', 'id_9961uoygxciw', 'id_vz3hcpih783w', 'id_nn9yrswip2qm', 'id_8xps0ers8ckh', 'id_8v312xxv5o53', 'id_co21ni3v2gxl', 'id_yyiji90knmly', 'id_v83aepssm6t4', 'id_o5on82gk892z', 'id_jw8fsiwvv42i', 'id_493jvy85u45j', 'id_z5d06b2t93fd', 'id_eopscj50lz06', 'id_ycfbxxsn4ci8', 'id_wgza2fe6ntgj', 'id_26sx9dioictn', 'id_ffijpdjxnjb1', 'id_jtr4a5dgo1qb', 'id_81pr3n3ezh3p', 'id_dcse3nqaub6u', 'id_3wjgwh0fhlyk', 'id_12qnmvuyx3sw', 'id_wffbce6imjbm', 'id_bb4u823oq4rp', 'id_5bqlgjv6hqdn', 'id_uiiby8ff65jl', 'id_eidggjhrrefb', 'id_rul5kt5e8az7', 'id_ly4r7j9mscay', 'id_173qui4bblj7', 'id_lpj0ilg6ec1e', 'id_mmmwab03fgbj', 'id_emq00dscna3p', 'id_nwa73pvk6sh4', 'id_64vhfc34ukkr', 'id_m989x5ob4vvx', 'id_nzvquvtxdpeq', 'id_rrojkjp7tjsv', 'id_ykgq9qtezmz9', 'id_np52z8av46hx', 'id_kyrd9isktcdu', 'id_7l2taa6rnonk', 'id_vkd5pqnt20qg', 'id_8ks70ja6muws', 'id_qtrk0pylszoo', 'id_pw0egkdfuc6p', 'id_p2ik6aiqzdo7', 'id_lsxjhc0ekde6', 'id_skxdr0ilzjup', 'id_5i0a98235g58', 'id_sv35648m66oa', 'id_pdciyfh9wy3s', 'id_8u3wsks968fi', 'id_yvc8msxwblla', 'id_wiisv1mqzrwe', 'id_y69nqlg299l2', 'id_7uzhpj0jvrk4', 'id_57j7uh9wowoa', 'id_4vhqrqo57zez', 'id_9b2zgnx8lzpb', 'id_86ms1jc34xkk', 'id_mgge9itoarrl', 'id_ua7vq56282q4', 'id_8y98mw911jlz', 'id_ita23e1pni9s', 'id_rie18h5ej6cd', 'id_d4vyg7ghvqgp', 'id_d35j41ibb8g0', 'id_fb9zk0ys3q8w', 'id_voeqt11d78ld', 'id_wsonwu9aodxi', 'id_j4jhepoz57gp', 'id_zthjpfs6zecd', 'id_9yy728fx2l58', 'id_m5c9zzmytlwo', 'id_mfuskvdk73tt', 'id_u1yl4lf36ies', 'id_yho85h2pci9q', 'id_rn17f67lqdah', 'id_ls4mka00vfn8', 'id_wu6w218uf8g4', 'id_oqyxfse1v2tq', 'id_efgggu3fh1zn', 'id_saaylszllj1m', 'id_bi7a4wvtzbok', 'id_sp2sq5k2ydwf', 'id_bxyn79fab0v2', 'id_4hl7qrsd9342', 'id_12lb7osm6d0y', 'id_s1pcv4y8t1mr', 'id_lzkxww7rtr80', 'id_r8lyyko0yxgp', 'id_iz85piqejmqq', 'id_2l75ch0yf6xn', 'id_nmxyrv70xop7', 'id_hx5q1vuxw2lh', 'id_g1t3vszc0fvu', 'id_caxwa36sxm8y', 'id_kg7ey47vookl', 'id_43ng98jljhds', 'id_ficl2spmf2gn', 'id_z0rma0gvhn72', 'id_gcuvzhefx7o9', 'id_e8rkcw8n89hx', 'id_pcgzf0exp76w', 'id_092vetuky9ku', 'id_yivhxtzuobvn', 'id_nzewuks8edwy', 'id_llvw8zsze6dz', 'id_vj6cjxjjwwcy', 'id_svtc6u221q99', 'id_kfit56etahki', 'id_9ia3sbx7lnzr', 'id_yll130iyg7fk', 'id_eiqvxdbazchx', 'id_n0iltk7fuael', 'id_i5cko4m5vhtw', 'id_e8rbyhqrq7hp', 'id_2lz2l0xhsra3', 'id_q1fvxxns2ysd', 'id_vrk4nijglc6y', 'id_u34awuch63c7', 'id_spictby0jfsb', 'id_05v6zjuaf300', 'id_xlvqgdunrbn3', 'id_vxwhwvwitosb', 'id_37o8ot7sylvy', 'id_ut45lzzqbscw', 'id_gkvylsi10fzg', 'id_l11ef7lfc5r1', 'id_lklds2vm2kfw', 'id_ekcri1d91kyv', 'id_r9zlwhn0lj7g', 'id_775jjpw2o1gl', 'id_jnxqnfvlyw36', 'id_92mqg78n35z4', 'id_pmp15g6d4o9t', 'id_s2k74vtavq6v', 'id_r1nak1qzdkzm', 'id_45i6ma37t8pt', 'id_tnj4dzrqsrls', 'id_mp0rgzszrwfr', 'id_fldbkaenndzx', 'id_cft51of3rwpv', 'id_7pertqznlxbq', 'id_llyupweizhs5', 'id_p9zit3u5gjvp', 'id_wlh6u0xt2el4', 'id_u71oddcl9lqg', 'id_h71dghbrgzdd', 'id_owmsbaeb6y6i', 'id_08w2po0cz63y', 'id_h76su5809lmy', 'id_d2u1zhk3nkji', 'id_0987b1h04r48', 'id_wu74v4l3rjs4', 'id_zdx2jxp27hbl', 'id_bhtcfx3iglqf', 'id_pda6diszbjj2', 'id_0cnfjlvz0zup', 'id_36bnmlwcuo8o', 'id_pn0jnmdox7gp', 'id_lb7zi5rj8fts', 'id_fah95yzf4v7j', 'id_zw4q7k48qoli', 'id_i43vgb9ik0ub', 'id_nz0vyt7t828p', 'id_2laek14ag26t', 'id_bzgkk39x1s2e', 'id_atljpz7hcm4u', 'id_serpjk6vcacx', 'id_8s9003hxszn0', 'id_94cyk4ql9l7l', 'id_rmeqi2r90v4i', 'id_h2ccxv20xz1a', 'id_70gtjom3eop1', 'id_gf5zba1afdgj', 'id_sl4cjt5wnh8h', 'id_zdtbx1c9vbb6', 'id_x0ide2wx2mug', 'id_9iw0j6rtrwak', 'id_y51czy7r4jbt', 'id_p7yxeig23xsx', 'id_lwx6bhrdxbro', 'id_o85u7egx9f8z', 'id_ue2zn5eixdvq', 'id_idb79w8y3ful', 'id_nlc85gf3pohs', 'id_5med9l4qbpck', 'id_q7ini431zryo', 'id_dcrni1jjxf0c', 'id_5ob3rqsdwzxi', 'id_635qajski6w6', 'id_2bbw02su1zxo', 'id_r72wx12m6nvw', 'id_5o3vhp1leg6b', 'id_e43v8ow5jc6t', 'id_eyil81o201zd', 'id_rpmjimk9z87n', 'id_bmbwxbwe99xl', 'id_yqxvhfxy9fw7', 'id_u83wbrs35kr0', 'id_dynxe56mvxv0', 'id_4fgpaeqys3t3', 'id_0jufm4jh21oa', 'id_6h9qj4btrz0e', 'id_iqelqtiwkf9v', 'id_hkszjpr68w29', 'id_6nmls3n2lb8s', 'id_sij8hhvxuaql', 'id_hnzc9p6xuui3', 'id_pvlw2quyl9y7', 'id_vdn70i43x6wc', 'id_w0q7hlrp32c2', 'id_t8eektwzt82b', 'id_33zbia3ufza7', 'id_u7z6uy4xdc9w', 'id_thrs4dlz509x', 'id_unm7puyfy3z0', 'id_zjnk9kilhohn', 'id_2kynrlcgru5f', 'id_ubtlbx7zgym2', 'id_gv1ljee6450j', 'id_9s3gj2xfpd6c', 'id_mvptj2za8h6t', 'id_8mq1sow2c5qk', 'id_hky88akkla11', 'id_eis9nqjzbjir', 'id_refcla27ut80', 'id_sjwc39mg8fc7', 'id_65nv65mvh9ro', 'id_ost4iq5ncmmp', 'id_7hgwmh5leaic', 'id_o50nb36kid45', 'id_igotdgqrw4fn', 'id_8itiykoilh4r', 'id_v9okpvyir95f', 'id_aqw7ev6w08eg', 'id_fb7q150qzbiy', 'id_gvbxmmi3ffgw', 'id_es2ywnrqsbm6', 'id_e9tnifct8ze6', 'id_w16fgt9eqqor', 'id_xkqf2cgodbus', 'id_w6en9w1x1av9', 'id_5nx564sw5st5', 'id_9w1ih49hi7hi', 'id_usqwbc03uqbd', 'id_zsn0mkw465cx', 'id_e2rwdm4s2gwl', 'id_dppgw8jgx0bu', 'id_8fs1xz6vqqc3', 'id_2165vkpb4js2', 'id_70k1pm0w5tqd', 'id_sxvd3q1d8i3g', 'id_ahpbmnswx6qp', 'id_3o88n4toig9b', 'id_spwe4jnsrb2z', 'id_209nhg5bat88', 'id_pzd4yrbgne3k', 'id_gqtoy9s5hpal', 'id_cchjm64w3nci', 'id_qabngwma5yxq', 'id_cgfgoc3f9z7z', 'id_avo2n17lbucs', 'id_6w3821ts5xpb', 'id_bnt3g5yf0ztx', 'id_nlxuo5vbh246', 'id_sq1ap8nxquug', 'id_9vkxq8s1dy69', 'id_yx9hphkz2ou0', 'id_xbq2b6bbnax0', 'id_g8h44hf2h3ix', 'id_qtn39ol6a425', 'id_lqm5mjxagctr', 'id_xrv7tc7xinfl', 'id_pvi9mkjfbqev', 'id_zl678jv8h8u7', 'id_o0k6plj957gi', 'id_f27uadusyjdj', 'id_3a5muzeosg75', 'id_1xd98z1dwha9', 'id_wfl4439k9xiq', 'id_j1vk5k1uqw5c', 'id_l5sfnnmsqni7', 'id_7abfzw1b6mxk', 'id_l3qgyryfqo94', 'id_pdltxwo5s4bg', 'id_tnvckfzkmsgp', 'id_pgcwtmak6ltc', 'id_gn32jyujo81j', 'id_d1e8mo3fged8', 'id_w2i50c841rh6', 'id_idymlwtus7ee', 'id_9hn7i7hex7co', 'id_0f27uesmwco5', 'id_s3bk1zqglf17', 'id_x25zfxjewif9', 'id_c8idqdvedz4a', 'id_0x7xpbri13m3', 'id_rfwnn5noyfhe', 'id_1lrt3lmdmbzx', 'id_5fshfn8o6jbu', 'id_9b9aosx1kc6j', 'id_5xgaygab4rrs', 'id_2rsrcpc1c7xu', 'id_re11skl3znwu', 'id_oncf1wg32vk7', 'id_xh565qpl55x1', 'id_xh9srsym7hku', 'id_b0fzfjf2g3ub', 'id_980jabpdw5rj', 'id_im1iikpf15sb', 'id_4npvqoya0wxl', 'id_8emevh5kowu6', 'id_ofj8cvfcibc7', 'id_jmjd8juwdn1o', 'id_109hupc15o36', 'id_e0okf3b9vfr6', 'id_hzklr7ynzpnt', 'id_lh3n7t77e857', 'id_lm3q803ngwe4', 'id_a3o1ekyfrv9d', 'id_wveobwooc1b7', 'id_vo5jzah24gc0', 'id_cd476i4m312b', 'id_30cdauttlxb1', 'id_h11w3q9k2hbr', 'id_f9sn4n73jje8', 'id_nmyq5s9rydl3', 'id_dpg6c5debxg8', 'id_fdamqbhhjt42', 'id_2xnf7jhkiwni', 'id_gmk60icoixv5', 'id_t4iby9hptpzz', 'id_rwnf7nqcplx3', 'id_9h29r2dp7oaj', 'id_2ta0ngfqse0i', 'id_s5s80wis2dnl', 'id_wlepljy9f3e8', 'id_ncv9rrrm9g4n', 'id_v1i8ozqyrjx9', 'id_0o43411iy0ck', 'id_y44wl9lb00u7', 'id_t831jnx8m98y', 'id_6ty7rs1uhne2', 'id_ye20r2rhto6p', 'id_uaoxh0tmizfl', 'id_wgwhqfoffci6', 'id_n68k1g9pyms2', 'id_3m3mbc8qvv2o', 'id_4snv6k6uouik', 'id_rpv3q5b5zger', 'id_1zqy9sf5t790', 'id_25g7318ll50k', 'id_op9d8myygb8u', 'id_8av1ryoiivlr', 'id_zqbp3wopp7eb', 'id_hwq2rrll1ik7', 'id_eadeuykx6tn1', 'id_1a2jucqyg49n', 'id_stvyr8wpuufc', 'id_4ggso69603fz', 'id_d6q20t8kchu2', 'id_al800sgovfyo', 'id_9xsev5h7f06y', 'id_fp9m7turzies', 'id_5gtl0e8rscqq', 'id_gh2qm0q2ge06', 'id_5h1v1v3nu0bj', 'id_95ime0e6ooa5', 'id_blp9kyvivem1', 'id_htfe5hnzz0g2', 'id_e1lcqvwkrrfg', 'id_vjcyf8mar1r2', 'id_jd0np2tbvd9c', 'id_6wqdpw65d11n', 'id_3tg6rdywoiom', 'id_g0037pf5w0sj', 'id_lbxe6zjkq4vs', 'id_gkx7zx913mcb', 'id_1o1apjbbmquz', 'id_2pe4m958h725', 'id_yu9ac7gbxzz0', 'id_oygioxfn3vgh', 'id_4fok61g84h0g', 'id_4n9jfk1yg0jn', 'id_cpztd9hz1r9r', 'id_i7hz59jcwlei', 'id_9ep5ysbubvds', 'id_po1a6zs8l5f2', 'id_68bt7x2sl96n', 'id_d14c1i5idvyh', 'id_1u94aqsqdxbq', 'id_565bw37ftw77', 'id_w6zepia283mh', 'id_2q69cn2mr76g', 'id_yg1pzgfdsy7o', 'id_54sppi6syve5', 'id_mk15bidq2chy', 'id_ehkod3lusaax', 'id_b4g3jc5ey3nf', 'id_5j9y8hn11xyc', 'id_tdhtc7vpfsgh', 'id_h2h1or4b8rgk', 'id_xgwa11pjudpx', 'id_4p9ml40sl105', 'id_bbti5h61kivl', 'id_7cmqwbwyb5ut', 'id_d2y2djk8slyd', 'id_8o24lj0hmwl2', 'id_3nq5lkjhqx3r', 'id_nam917w07yoe', 'id_81daa09k1jl5', 'id_nciy49yoog8y', 'id_ie30sw4c4hwi', 'id_7dko20rofiia', 'id_xv149nnt9z95', 'id_ezrktac8a5m6', 'id_xnv558owrgmg', 'id_9opfxwsfj59y', 'id_7lrovejisfbq', 'id_q0zj1awhyqwi', 'id_7g80e9lswuk7', 'id_pufsosoawpv0', 'id_anoqwddm9fx6', 'id_op7ms3r3e0qx', 'id_6fouj0bpt0bj', 'id_g1ize59ewbvf', 'id_fg2zwwunazho', 'id_jjs6dfy3iuh2', 'id_x83ypfgfomg6', 'id_884gj78hqzed', 'id_omxzn0r27czj', 'id_7m2lr9dlxxln', 'id_fvd2vpsr03ju', 'id_pgvu0eq2127b', 'id_cz9l8gpitggw', 'id_p5momw4a5e20', 'id_ihc9mckphsax', 'id_2ln67ah0q07k', 'id_oetnu03ayfpa', 'id_l5rcsie7mnzf', 'id_kcm77uediyar', 'id_w62ilxpu5oih', 'id_b7rkbvlwehjf', 'id_ltquonm7vw9s', 'id_rwieomgk4tiq', 'id_vk8b5r7y0w9e', 'id_7b31jh71lh5p', 'id_hvwhpckzmdut', 'id_3j60w0fn8gu7', 'id_qd0w1vqqjb8y', 'id_9sqjkvjsu9pi', 'id_qmwdffha258t', 'id_0hbwkof58pj5', 'id_oy25djex7wff', 'id_vp3tfv7n3t2e', 'id_9uv24nap4zf5', 'id_r88jxnfy4khw', 'id_hiz55ol0871s', 'id_2glnxu6qtawj', 'id_06zma02zeea7', 'id_ccsczu0n821x', 'id_4bbkntya63b8', 'id_3fvp3ucltre0', 'id_te4q36q1dftd', 'id_r0miqjzs8aru', 'id_c57lt27y4vut', 'id_g05yway5xcc1', 'id_po8y84b1r1ur', 'id_4haljvw31oey', 'id_qjehyaeemcpn', 'id_yt33sdndfzsx', 'id_r7gi5c4t1xlx', 'id_8keqpgxfpnxm', 'id_0gs4c2npl7i8', 'id_sdn3d33nboc8', 'id_tevbxzjguwvt', 'id_wmggofbmld5d', 'id_s0kp9caxnmnb', 'id_2yzd5nyui4p9', 'id_vebhfyupu2fo', 'id_pvv5g205hieg', 'id_jnfrr09hhchk', 'id_izwe2dr77bjn', 'id_14rfqxc146vn', 'id_jev5m3ynwb96', 'id_jqm6f11iag7j', 'id_qlln8tegmr3n', 'id_2ua6p4muy8j9', 'id_6rxv76u1p0ln', 'id_6dsap350hxxn', 'id_rz35tdv7du5l', 'id_d172ya43kizv', 'id_7zwhjmk45mmi', 'id_5li35yqsc9rh', 'id_9vrvdxtt40n9', 'id_c0v9doavgzry', 'id_f6k7s8h92ego', 'id_pgb4n8yaah46', 'id_jcoo7rfpezp3', 'id_s9anb6b00ndx', 'id_2lwwdainjgpi', 'id_llhg7erpg2sq', 'id_z6hlu4rrjexb', 'id_nrgsqjuexihf', 'id_8a3pmtjysrs3', 'id_o70lkh1ezbk7', 'id_za4tcpqzcole', 'id_ltrjchafc0mk', 'id_9crshn9jivi2', 'id_7ne66wdjedzo', 'id_v6ljqy5e1oz8', 'id_z0pu6tfwasbl', 'id_6egrftmt1ab1', 'id_1ycsilyu21ae', 'id_uv8vv2r74cw1', 'id_kclxhob7596f', 'id_8pbh1hqifm0l', 'id_qac1nevio0ns', 'id_tygoetuiqpe5', 'id_y88dlc538a73', 'id_fcrczp9u8lt1', 'id_3m76m0m3t2b9', 'id_8nfpyuojh3rw', 'id_066zz28m11mr', 'id_c4fla1str9jf', 'id_v4ffn6pvh7ux', 'id_37yqd5xa8cfg', 'id_ubquyb8juwfx', 'id_88vyila3lf85', 'id_3toidl4rc570', 'id_y4rd44ti00mp', 'id_s5tp07bymack', 'id_zyiehp5vejgw', 'id_9n43n33znj3h', 'id_rswvhkn6es1b', 'id_3kupt308gw5p', 'id_gvpgwdqxex1v', 'id_rlkqs2gu2eg4', 'id_q07ekm5av1fv', 'id_zs107g5eq8d0', 'id_uoowq94g1xpq', 'id_3ccqo6wi2rw5', 'id_dmno95gf2o6o', 'id_87lathsiwl0j', 'id_2tjiyy3u77rb']\nShape of the image array: (128, 128, 6)\nNumber of bands in the image: 6\n",
          "output_type": "stream"
        }
      ],
      "execution_count": null
    },
    {
      "cell_type": "code",
      "source": [
        "train[train['label']== 1].describe()"
      ],
      "metadata": {
        "id": "72oZ30oVOBT1",
        "outputId": "d81fef38-73f5-4f66-cd17-0cccd692aad0",
        "trusted": true,
        "execution": {
          "iopub.status.busy": "2025-02-17T11:02:00.954892Z",
          "iopub.execute_input": "2025-02-17T11:02:00.955198Z",
          "iopub.status.idle": "2025-02-17T11:02:00.982431Z",
          "shell.execute_reply.started": "2025-02-17T11:02:00.955172Z",
          "shell.execute_reply": "2025-02-17T11:02:00.981652Z"
        }
      },
      "outputs": [
        {
          "execution_count": 4,
          "output_type": "execute_result",
          "data": {
            "text/plain": "       precipitation  label\ncount     318.000000  318.0\nmean       13.801880    1.0\nstd        18.892779    0.0\nmin         0.000000    1.0\n25%         0.000000    1.0\n50%         4.998505    1.0\n75%        20.140200    1.0\nmax        88.336000    1.0",
            "text/html": "<div>\n<style scoped>\n    .dataframe tbody tr th:only-of-type {\n        vertical-align: middle;\n    }\n\n    .dataframe tbody tr th {\n        vertical-align: top;\n    }\n\n    .dataframe thead th {\n        text-align: right;\n    }\n</style>\n<table border=\"1\" class=\"dataframe\">\n  <thead>\n    <tr style=\"text-align: right;\">\n      <th></th>\n      <th>precipitation</th>\n      <th>label</th>\n    </tr>\n  </thead>\n  <tbody>\n    <tr>\n      <th>count</th>\n      <td>318.000000</td>\n      <td>318.0</td>\n    </tr>\n    <tr>\n      <th>mean</th>\n      <td>13.801880</td>\n      <td>1.0</td>\n    </tr>\n    <tr>\n      <th>std</th>\n      <td>18.892779</td>\n      <td>0.0</td>\n    </tr>\n    <tr>\n      <th>min</th>\n      <td>0.000000</td>\n      <td>1.0</td>\n    </tr>\n    <tr>\n      <th>25%</th>\n      <td>0.000000</td>\n      <td>1.0</td>\n    </tr>\n    <tr>\n      <th>50%</th>\n      <td>4.998505</td>\n      <td>1.0</td>\n    </tr>\n    <tr>\n      <th>75%</th>\n      <td>20.140200</td>\n      <td>1.0</td>\n    </tr>\n    <tr>\n      <th>max</th>\n      <td>88.336000</td>\n      <td>1.0</td>\n    </tr>\n  </tbody>\n</table>\n</div>"
          },
          "metadata": {}
        }
      ],
      "execution_count": null
    },
    {
      "cell_type": "code",
      "source": [
        "train[train['label']== 0].describe()"
      ],
      "metadata": {
        "id": "bBEPGv4hOIL2",
        "outputId": "8e934355-65b5-4484-fe62-1972b7c49848",
        "trusted": true,
        "execution": {
          "iopub.status.busy": "2025-02-17T11:02:00.983315Z",
          "iopub.execute_input": "2025-02-17T11:02:00.983548Z",
          "iopub.status.idle": "2025-02-17T11:02:01.060721Z",
          "shell.execute_reply.started": "2025-02-17T11:02:00.983529Z",
          "shell.execute_reply": "2025-02-17T11:02:01.059647Z"
        }
      },
      "outputs": [
        {
          "execution_count": 5,
          "output_type": "execute_result",
          "data": {
            "text/plain": "       precipitation     label\ncount  491702.000000  491702.0\nmean        1.557776       0.0\nstd         5.461300       0.0\nmin         0.000000       0.0\n25%         0.000000       0.0\n50%         0.000000       0.0\n75%         0.000000       0.0\nmax       277.346000       0.0",
            "text/html": "<div>\n<style scoped>\n    .dataframe tbody tr th:only-of-type {\n        vertical-align: middle;\n    }\n\n    .dataframe tbody tr th {\n        vertical-align: top;\n    }\n\n    .dataframe thead th {\n        text-align: right;\n    }\n</style>\n<table border=\"1\" class=\"dataframe\">\n  <thead>\n    <tr style=\"text-align: right;\">\n      <th></th>\n      <th>precipitation</th>\n      <th>label</th>\n    </tr>\n  </thead>\n  <tbody>\n    <tr>\n      <th>count</th>\n      <td>491702.000000</td>\n      <td>491702.0</td>\n    </tr>\n    <tr>\n      <th>mean</th>\n      <td>1.557776</td>\n      <td>0.0</td>\n    </tr>\n    <tr>\n      <th>std</th>\n      <td>5.461300</td>\n      <td>0.0</td>\n    </tr>\n    <tr>\n      <th>min</th>\n      <td>0.000000</td>\n      <td>0.0</td>\n    </tr>\n    <tr>\n      <th>25%</th>\n      <td>0.000000</td>\n      <td>0.0</td>\n    </tr>\n    <tr>\n      <th>50%</th>\n      <td>0.000000</td>\n      <td>0.0</td>\n    </tr>\n    <tr>\n      <th>75%</th>\n      <td>0.000000</td>\n      <td>0.0</td>\n    </tr>\n    <tr>\n      <th>max</th>\n      <td>277.346000</td>\n      <td>0.0</td>\n    </tr>\n  </tbody>\n</table>\n</div>"
          },
          "metadata": {}
        }
      ],
      "execution_count": null
    },
    {
      "cell_type": "code",
      "source": [
        "def get_location(value):\n",
        "  return value.split(\"_\")[0] + '_' + value.split(\"_\")[1]\n",
        "\n",
        "def get_event_id(value):\n",
        "  return value.split(\"_\")[3]\n",
        "for df in [train, test]:\n",
        "\n",
        "  df['location_id'] = df['event_id'].apply(lambda x: '_'.join(x.split('_')[0:2]))\n",
        "  df['event_idx'] = df.groupby('location_id', sort=False).ngroup()\n",
        "\n",
        "  df['event_t'] = df.groupby('location_id').cumcount()\n",
        "\n",
        "print(len(set(train['location_id'])), len(set(test['location_id'])))\n",
        "print(len(set(train['location_id']).intersection(set(test['location_id']))))\n",
        "print(len(images))\n",
        "display(train.head(), test.head())"
      ],
      "metadata": {
        "id": "c-Gs4LTb2z_F",
        "outputId": "d73dc11a-4164-400d-9eef-ce0f648e383e",
        "trusted": true,
        "execution": {
          "iopub.status.busy": "2025-02-17T11:02:01.061623Z",
          "iopub.execute_input": "2025-02-17T11:02:01.061880Z",
          "iopub.status.idle": "2025-02-17T11:02:01.645346Z",
          "shell.execute_reply.started": "2025-02-17T11:02:01.061858Z",
          "shell.execute_reply": "2025-02-17T11:02:01.644684Z"
        }
      },
      "outputs": [
        {
          "name": "stdout",
          "text": "674 224\n0\n898\n",
          "output_type": "stream"
        },
        {
          "output_type": "display_data",
          "data": {
            "text/plain": "              event_id  precipitation  label      location_id  event_idx  \\\n0  id_spictby0jfsb_X_0       0.000000      0  id_spictby0jfsb          0   \n1  id_spictby0jfsb_X_1       0.095438      0  id_spictby0jfsb          0   \n2  id_spictby0jfsb_X_2       1.949560      0  id_spictby0jfsb          0   \n3  id_spictby0jfsb_X_3       3.232160      0  id_spictby0jfsb          0   \n4  id_spictby0jfsb_X_4       0.000000      0  id_spictby0jfsb          0   \n\n   event_t  \n0        0  \n1        1  \n2        2  \n3        3  \n4        4  ",
            "text/html": "<div>\n<style scoped>\n    .dataframe tbody tr th:only-of-type {\n        vertical-align: middle;\n    }\n\n    .dataframe tbody tr th {\n        vertical-align: top;\n    }\n\n    .dataframe thead th {\n        text-align: right;\n    }\n</style>\n<table border=\"1\" class=\"dataframe\">\n  <thead>\n    <tr style=\"text-align: right;\">\n      <th></th>\n      <th>event_id</th>\n      <th>precipitation</th>\n      <th>label</th>\n      <th>location_id</th>\n      <th>event_idx</th>\n      <th>event_t</th>\n    </tr>\n  </thead>\n  <tbody>\n    <tr>\n      <th>0</th>\n      <td>id_spictby0jfsb_X_0</td>\n      <td>0.000000</td>\n      <td>0</td>\n      <td>id_spictby0jfsb</td>\n      <td>0</td>\n      <td>0</td>\n    </tr>\n    <tr>\n      <th>1</th>\n      <td>id_spictby0jfsb_X_1</td>\n      <td>0.095438</td>\n      <td>0</td>\n      <td>id_spictby0jfsb</td>\n      <td>0</td>\n      <td>1</td>\n    </tr>\n    <tr>\n      <th>2</th>\n      <td>id_spictby0jfsb_X_2</td>\n      <td>1.949560</td>\n      <td>0</td>\n      <td>id_spictby0jfsb</td>\n      <td>0</td>\n      <td>2</td>\n    </tr>\n    <tr>\n      <th>3</th>\n      <td>id_spictby0jfsb_X_3</td>\n      <td>3.232160</td>\n      <td>0</td>\n      <td>id_spictby0jfsb</td>\n      <td>0</td>\n      <td>3</td>\n    </tr>\n    <tr>\n      <th>4</th>\n      <td>id_spictby0jfsb_X_4</td>\n      <td>0.000000</td>\n      <td>0</td>\n      <td>id_spictby0jfsb</td>\n      <td>0</td>\n      <td>4</td>\n    </tr>\n  </tbody>\n</table>\n</div>"
          },
          "metadata": {}
        },
        {
          "output_type": "display_data",
          "data": {
            "text/plain": "              event_id  precipitation      location_id  event_idx  event_t\n0  id_j7b6sokflo4k_X_0        0.00000  id_j7b6sokflo4k          0        0\n1  id_j7b6sokflo4k_X_1        3.01864  id_j7b6sokflo4k          0        1\n2  id_j7b6sokflo4k_X_2        0.00000  id_j7b6sokflo4k          0        2\n3  id_j7b6sokflo4k_X_3       16.61520  id_j7b6sokflo4k          0        3\n4  id_j7b6sokflo4k_X_4        2.56706  id_j7b6sokflo4k          0        4",
            "text/html": "<div>\n<style scoped>\n    .dataframe tbody tr th:only-of-type {\n        vertical-align: middle;\n    }\n\n    .dataframe tbody tr th {\n        vertical-align: top;\n    }\n\n    .dataframe thead th {\n        text-align: right;\n    }\n</style>\n<table border=\"1\" class=\"dataframe\">\n  <thead>\n    <tr style=\"text-align: right;\">\n      <th></th>\n      <th>event_id</th>\n      <th>precipitation</th>\n      <th>location_id</th>\n      <th>event_idx</th>\n      <th>event_t</th>\n    </tr>\n  </thead>\n  <tbody>\n    <tr>\n      <th>0</th>\n      <td>id_j7b6sokflo4k_X_0</td>\n      <td>0.00000</td>\n      <td>id_j7b6sokflo4k</td>\n      <td>0</td>\n      <td>0</td>\n    </tr>\n    <tr>\n      <th>1</th>\n      <td>id_j7b6sokflo4k_X_1</td>\n      <td>3.01864</td>\n      <td>id_j7b6sokflo4k</td>\n      <td>0</td>\n      <td>1</td>\n    </tr>\n    <tr>\n      <th>2</th>\n      <td>id_j7b6sokflo4k_X_2</td>\n      <td>0.00000</td>\n      <td>id_j7b6sokflo4k</td>\n      <td>0</td>\n      <td>2</td>\n    </tr>\n    <tr>\n      <th>3</th>\n      <td>id_j7b6sokflo4k_X_3</td>\n      <td>16.61520</td>\n      <td>id_j7b6sokflo4k</td>\n      <td>0</td>\n      <td>3</td>\n    </tr>\n    <tr>\n      <th>4</th>\n      <td>id_j7b6sokflo4k_X_4</td>\n      <td>2.56706</td>\n      <td>id_j7b6sokflo4k</td>\n      <td>0</td>\n      <td>4</td>\n    </tr>\n  </tbody>\n</table>\n</div>"
          },
          "metadata": {}
        }
      ],
      "execution_count": null
    },
    {
      "cell_type": "code",
      "source": [
        "train.groupby(['location_id'])['event_id'].count()\n"
      ],
      "metadata": {
        "id": "PQe32657iK8y",
        "outputId": "2963b0fb-8d10-44dc-dd57-11f2b23b82da",
        "trusted": true,
        "execution": {
          "iopub.status.busy": "2025-02-17T11:02:01.646196Z",
          "iopub.execute_input": "2025-02-17T11:02:01.646537Z",
          "iopub.status.idle": "2025-02-17T11:02:01.715521Z",
          "shell.execute_reply.started": "2025-02-17T11:02:01.646504Z",
          "shell.execute_reply": "2025-02-17T11:02:01.714899Z"
        }
      },
      "outputs": [
        {
          "execution_count": 7,
          "output_type": "execute_result",
          "data": {
            "text/plain": "location_id\nid_05v6zjuaf300    730\nid_06zma02zeea7    730\nid_08w2po0cz63y    730\nid_092vetuky9ku    730\nid_0987b1h04r48    730\n                  ... \nid_zvdfc80cizdl    730\nid_zvizc259vrnj    730\nid_zw4q7k48qoli    730\nid_zyiehp5vejgw    730\nid_zyy86zjmrnx2    730\nName: event_id, Length: 674, dtype: int64"
          },
          "metadata": {}
        }
      ],
      "execution_count": null
    },
    {
      "cell_type": "markdown",
      "source": [
        "* each image has 730 events\n",
        "* no intersection of images betweeen the two data sets (unique sets)\n",
        "* The numpy files has 898 images for both train and test\n",
        "\n",
        "* The images are annual cloud-free composite images from Sentinel-2 satellite imagery. They are of size 128x128 and contain the following 6 channels:\n",
        "\n",
        "      Sentinel-2 B2 (Blue)\n",
        "      Sentinel-2 B3 (Green)\n",
        "      Sentinel-2 B4 (Red)\n",
        "      Sentinel-2 B8 (NIR)\n",
        "      Sentinel-2 B11 (SWIR)\n",
        "      Slope (derived from NASA SRTM)\n",
        "\n",
        "* the images are essentially static for any event/location pair over the study period.\n",
        "  * the images only serve as spatial representations of the environment for that location over the 730 day period\n",
        "  * it reflects static or semi-static environmental conditons (e.g land use, vegetation, water bodies, topography) that could influence flood occurence\n",
        "  * so the images cannot provide temporal insights but what we can do is extract spatial features such as NDVI, NDWI, NDBI, Topographic features like slope and elevation changes from the slope channel\n",
        "  * combine the spatial features with temporal precipitation data to enrich the dataset by treating the spatial features as fixed covariates that describe each location.\n",
        "    * Areas with high NDWI Might flood more frequently with heavy precipitation\n",
        "    * LOcations with high slope values might experience flash floods after intense rainfall\n",
        "\n",
        "  * Image processing:\n",
        "    * Use pretrained models to extract image embeddings or use PCA for dimensionality reduction\n",
        "    * create a binary classifier where 1 is images where a flood has occured in any of the 730 events and 0 if no floods has occured to create a soft flag for flood-prone locations. Even if not perfect they can serve as a proxy for environmental vulnerability to floods\n",
        "    * The image classifier naturally reduces the extreme imbalance in the dataset by focusing on binary flood/non-flood classification\n",
        "  \n",
        "  * clustering locations:\n",
        "    * group events/locations based on spatial features (e.g NDVI, NDWI) to identify patterns in flood susceptibility\n",
        "  * correlating spatial features with precipitation thresholds:\n",
        "    * study how spatial features interact with specific precipitation thresholds that leads to floods\n",
        "\n",
        "  * You can think of event_id_X_1 being the 01/01/2024 and event_id_X_2 being 02/01/2024 (dd/mm/yyyy)."
      ],
      "metadata": {
        "id": "X5CuKrF84NhH"
      }
    },
    {
      "cell_type": "markdown",
      "source": [
        "### Data Preprocessing + Feature Engineering"
      ],
      "metadata": {
        "id": "AJtxRMgI8AP8"
      }
    },
    {
      "cell_type": "code",
      "source": [
        "import numpy as np\n",
        "import pandas as pd\n",
        "from scipy.ndimage import uniform_filter\n",
        "\n",
        "def extract_center_patch(image, patch_size):\n",
        "    \"\"\"\n",
        "    Extract a square patch from the center of an image.\n",
        "\n",
        "    Args:\n",
        "        image (numpy.ndarray): 3D array of shape (H, W, B) where H=height, W=width, B=bands.\n",
        "        patch_size (int): Size of the square patch to extract.\n",
        "\n",
        "    Returns:\n",
        "        numpy.ndarray: Center patch of size (patch_size, patch_size, B).\n",
        "    \"\"\"\n",
        "    h, w, _ = image.shape\n",
        "    center_x, center_y = h // 2, w // 2\n",
        "    half_size = patch_size // 2\n",
        "    return image[center_x - half_size:center_x + half_size, center_y - half_size:center_y + half_size, :]\n",
        "\n",
        "\n",
        "def calculate_statistics(array, stats):\n",
        "    \"\"\"\n",
        "    Compute specified statistics on a given array.\n",
        "\n",
        "    Args:\n",
        "        array (numpy.ndarray): Input array.\n",
        "        stats (list): List of statistics to calculate (e.g., ['mean', 'std', 'median']).\n",
        "\n",
        "    Returns:\n",
        "        dict: Dictionary of computed statistics with keys as stat names.\n",
        "    \"\"\"\n",
        "    statistics = {}\n",
        "    for stat in stats:\n",
        "        if stat == 'mean':\n",
        "            statistics['mean'] = np.nanmean(array)\n",
        "        elif stat == 'std':\n",
        "            statistics['std'] = np.nanstd(array)\n",
        "        elif stat == 'median':\n",
        "            statistics['median'] = np.nanmedian(array)\n",
        "        elif stat == 'skew':\n",
        "            statistics['skew'] = pd.Series(array.flatten()).skew()\n",
        "        elif stat == 'min':\n",
        "            statistics['min'] = np.nanmin(array)\n",
        "        elif stat == 'max':\n",
        "            statistics['max'] = np.nanmax(array)\n",
        "        elif stat =='sum':\n",
        "            statistics['sum'] = np.nansum(array)\n",
        "    return statistics\n",
        "\n",
        "\n",
        "def generate_flood_features(df, images, band_names, statistics=['mean', 'std']):\n",
        "    \"\"\"\n",
        "    Generate tabular features for flood modeling from given bands, with customizable statistics.\n",
        "\n",
        "    Args:\n",
        "        df (pd.DataFrame): Input dataframe containing metadata for each location (train + test).\n",
        "                           Should have a 'location_id' column to identify images.\n",
        "        images (dict): Dictionary of image data indexed by 'location_id'.\n",
        "        band_names (tuple): Tuple of available band names (e.g., 'B2', 'B3', ...).\n",
        "        statistics (list): List of statistics to calculate for each feature (e.g., ['mean', 'std']).\n",
        "\n",
        "    Returns:\n",
        "        pd.DataFrame: Dataframe with additional features for modeling.\n",
        "    \"\"\"\n",
        "    band_indices = {name: band_names.index(name) for name in band_names}\n",
        "    features = []\n",
        "\n",
        "    for _, row in df.iterrows():\n",
        "        location_id = row['location_id']\n",
        "        bands = {name: images[location_id][..., idx] for name, idx in band_indices.items()}\n",
        "\n",
        "        # Vegetation Indices\n",
        "        ndvi = (bands['B8'] - bands['B4']) / (bands['B8'] + bands['B4'] + 1e-6)\n",
        "        # savi = (1.5) * (bands['B8'] - bands['B4']) / (bands['B8'] + bands['B4'] + 0.5 + 1e-6)\n",
        "\n",
        "        # Water Indices\n",
        "        ndwi = (bands['B3'] - bands['B8']) / (bands['B3'] + bands['B8'] + 1e-6)\n",
        "        mndwi = (bands['B3'] - bands['B11']) / (bands['B3'] + bands['B11'] + 1e-6)\n",
        "\n",
        "        # Moisture-related\n",
        "        msi = bands['B11'] / (bands['B8'] + 1e-6)\n",
        "\n",
        "        evi = 2.5 * (bands['B8'] - bands['B4']) / (bands['B8'] + 6 * bands['B4'] - 7.5 * bands['B2'] + 1e-6)\n",
        "\n",
        "\n",
        "        # Topographic Features\n",
        "        slope = bands['SLOPE']\n",
        "        # slope_variability = uniform_filter(slope, size=3)  # Smooth with a 3x3 window\n",
        "        # elevation_change = np.gradient(slope, axis=(0, 1))\n",
        "\n",
        "        # # Composite Ratios\n",
        "        # band_ratios = [\n",
        "        #     (bands['B2'] / (bands['B4'] + 1e-6)),\n",
        "        #     (bands['B8'] / (bands['B11'] + 1e-6)),\n",
        "        #     (bands['B2'] / (bands['B8'] + 1e-6)),\n",
        "        # ]\n",
        "\n",
        "        # Compile features for this location\n",
        "        location_features = {'location_id': location_id}\n",
        "\n",
        "        # Add statistics for each feature\n",
        "        index_features = {\n",
        "            'NDVI': ndvi,\n",
        "            # 'SAVI': savi,\n",
        "            'NDWI': ndwi,\n",
        "            'MNDWI': mndwi,\n",
        "            'MSI': msi,\n",
        "            'Slope': slope,\n",
        "            # 'Slope_variability': slope_variability,\n",
        "            # 'Elevation_change': elevation_change,\n",
        "            'EVI': evi,\n",
        "        }\n",
        "\n",
        "        for feature_name, feature_array in index_features.items():\n",
        "            stats = calculate_statistics(feature_array, statistics)\n",
        "            for stat_name, value in stats.items():\n",
        "                location_features[f'{feature_name}_{stat_name}'] = value\n",
        "\n",
        "        # # Add statistics for band ratios\n",
        "        # for idx, ratio in enumerate(band_ratios):\n",
        "        #     stats = calculate_statistics(ratio, statistics)\n",
        "        #     for stat_name, value in stats.items():\n",
        "        #         location_features[f'Band_Ratio_{idx + 1}_{stat_name}'] = value\n",
        "\n",
        "        features.append(location_features)\n",
        "\n",
        "    # Convert to a DataFrame\n",
        "    feature_df = pd.DataFrame(features)\n",
        "\n",
        "    # Merge with the original DataFrame (optional)\n",
        "    df = df.merge(feature_df, on='location_id', how='left')\n",
        "\n",
        "    return df\n",
        "\n",
        "# Example list of statistics to calculate\n",
        "stats_to_calculate = ['mean', 'median', 'std']#, 'std', 'median', 'min', 'max'\n",
        "BAND_NAMES = ('B2', 'B3', 'B4', 'B8', 'B11', 'SLOPE')\n",
        "\n",
        "# Generate features with these statistics\n",
        "train_features = generate_flood_features(train_with_cv_results, images, BAND_NAMES, statistics=stats_to_calculate)\n",
        "test_features = generate_flood_features(test_with_cv_results, images, BAND_NAMES, statistics=stats_to_calculate)\n",
        "\n",
        "display(train_features.head(), train_features.shape)"
      ],
      "metadata": {
        "id": "hF3dyo-K6ys0",
        "outputId": "5c6b1e8a-139d-4f88-d219-e0212fa8d0ce",
        "trusted": true,
        "execution": {
          "iopub.status.busy": "2025-02-17T11:02:01.717617Z",
          "iopub.execute_input": "2025-02-17T11:02:01.717871Z",
          "iopub.status.idle": "2025-02-17T11:02:17.053207Z",
          "shell.execute_reply.started": "2025-02-17T11:02:01.717851Z",
          "shell.execute_reply": "2025-02-17T11:02:17.052530Z"
        }
      },
      "outputs": [
        {
          "output_type": "display_data",
          "data": {
            "text/plain": "       location_id  flood_probability  NDVI_mean  NDVI_median  NDVI_std  \\\n0  id_05v6zjuaf300           0.997973   0.306647     0.289123  0.300898   \n1  id_06zma02zeea7           0.006545   0.159647     0.147180  0.042286   \n2  id_08w2po0cz63y           0.006836   0.050497     0.042706  0.458242   \n3  id_092vetuky9ku           0.034579   0.067969     0.064881  0.024405   \n4  id_0987b1h04r48           0.999697   1.419133     0.259879  4.472251   \n\n   NDWI_mean  NDWI_median  NDWI_std  MNDWI_mean  MNDWI_median  MNDWI_std  \\\n0  23.140439    23.314936  3.966958   23.350521     23.752928   3.514345   \n1  17.073613    16.132392  2.368570   12.569447     11.737508   2.677526   \n2  23.230146    23.260838  1.407995   19.162977     19.086905   1.198506   \n3  18.938757    19.463174  2.269988   16.245171     16.663653   1.867587   \n4  18.443095    18.374645  5.957326   18.976906     18.748767   5.061592   \n\n   MSI_mean  MSI_median   MSI_std   Slope_mean  Slope_median    Slope_std  \\\n0  0.993207    0.998729  0.165700  2546.856934        2941.0  1680.639351   \n1  1.544330    1.571765  0.150067  1579.013550        2076.0  1424.145055   \n2  1.361210    1.362095  0.078049  3998.576111        4146.0  2432.364477   \n3  1.269639    1.265581  0.067266  2070.933716        2087.0  1495.327375   \n4  1.047052    1.036392  0.247697  2242.015137        2088.0  1849.828190   \n\n        EVI_mean  EVI_median       EVI_std  \n0  379179.587592   -1.967811  2.803836e+07  \n1  314026.202063    0.431342  2.850219e+07  \n2       1.291369    0.286007  1.288148e+02  \n3       0.270067    0.248872  1.187897e-01  \n4  315547.147392   -1.002732  2.135559e+07  ",
            "text/html": "<div>\n<style scoped>\n    .dataframe tbody tr th:only-of-type {\n        vertical-align: middle;\n    }\n\n    .dataframe tbody tr th {\n        vertical-align: top;\n    }\n\n    .dataframe thead th {\n        text-align: right;\n    }\n</style>\n<table border=\"1\" class=\"dataframe\">\n  <thead>\n    <tr style=\"text-align: right;\">\n      <th></th>\n      <th>location_id</th>\n      <th>flood_probability</th>\n      <th>NDVI_mean</th>\n      <th>NDVI_median</th>\n      <th>NDVI_std</th>\n      <th>NDWI_mean</th>\n      <th>NDWI_median</th>\n      <th>NDWI_std</th>\n      <th>MNDWI_mean</th>\n      <th>MNDWI_median</th>\n      <th>MNDWI_std</th>\n      <th>MSI_mean</th>\n      <th>MSI_median</th>\n      <th>MSI_std</th>\n      <th>Slope_mean</th>\n      <th>Slope_median</th>\n      <th>Slope_std</th>\n      <th>EVI_mean</th>\n      <th>EVI_median</th>\n      <th>EVI_std</th>\n    </tr>\n  </thead>\n  <tbody>\n    <tr>\n      <th>0</th>\n      <td>id_05v6zjuaf300</td>\n      <td>0.997973</td>\n      <td>0.306647</td>\n      <td>0.289123</td>\n      <td>0.300898</td>\n      <td>23.140439</td>\n      <td>23.314936</td>\n      <td>3.966958</td>\n      <td>23.350521</td>\n      <td>23.752928</td>\n      <td>3.514345</td>\n      <td>0.993207</td>\n      <td>0.998729</td>\n      <td>0.165700</td>\n      <td>2546.856934</td>\n      <td>2941.0</td>\n      <td>1680.639351</td>\n      <td>379179.587592</td>\n      <td>-1.967811</td>\n      <td>2.803836e+07</td>\n    </tr>\n    <tr>\n      <th>1</th>\n      <td>id_06zma02zeea7</td>\n      <td>0.006545</td>\n      <td>0.159647</td>\n      <td>0.147180</td>\n      <td>0.042286</td>\n      <td>17.073613</td>\n      <td>16.132392</td>\n      <td>2.368570</td>\n      <td>12.569447</td>\n      <td>11.737508</td>\n      <td>2.677526</td>\n      <td>1.544330</td>\n      <td>1.571765</td>\n      <td>0.150067</td>\n      <td>1579.013550</td>\n      <td>2076.0</td>\n      <td>1424.145055</td>\n      <td>314026.202063</td>\n      <td>0.431342</td>\n      <td>2.850219e+07</td>\n    </tr>\n    <tr>\n      <th>2</th>\n      <td>id_08w2po0cz63y</td>\n      <td>0.006836</td>\n      <td>0.050497</td>\n      <td>0.042706</td>\n      <td>0.458242</td>\n      <td>23.230146</td>\n      <td>23.260838</td>\n      <td>1.407995</td>\n      <td>19.162977</td>\n      <td>19.086905</td>\n      <td>1.198506</td>\n      <td>1.361210</td>\n      <td>1.362095</td>\n      <td>0.078049</td>\n      <td>3998.576111</td>\n      <td>4146.0</td>\n      <td>2432.364477</td>\n      <td>1.291369</td>\n      <td>0.286007</td>\n      <td>1.288148e+02</td>\n    </tr>\n    <tr>\n      <th>3</th>\n      <td>id_092vetuky9ku</td>\n      <td>0.034579</td>\n      <td>0.067969</td>\n      <td>0.064881</td>\n      <td>0.024405</td>\n      <td>18.938757</td>\n      <td>19.463174</td>\n      <td>2.269988</td>\n      <td>16.245171</td>\n      <td>16.663653</td>\n      <td>1.867587</td>\n      <td>1.269639</td>\n      <td>1.265581</td>\n      <td>0.067266</td>\n      <td>2070.933716</td>\n      <td>2087.0</td>\n      <td>1495.327375</td>\n      <td>0.270067</td>\n      <td>0.248872</td>\n      <td>1.187897e-01</td>\n    </tr>\n    <tr>\n      <th>4</th>\n      <td>id_0987b1h04r48</td>\n      <td>0.999697</td>\n      <td>1.419133</td>\n      <td>0.259879</td>\n      <td>4.472251</td>\n      <td>18.443095</td>\n      <td>18.374645</td>\n      <td>5.957326</td>\n      <td>18.976906</td>\n      <td>18.748767</td>\n      <td>5.061592</td>\n      <td>1.047052</td>\n      <td>1.036392</td>\n      <td>0.247697</td>\n      <td>2242.015137</td>\n      <td>2088.0</td>\n      <td>1849.828190</td>\n      <td>315547.147392</td>\n      <td>-1.002732</td>\n      <td>2.135559e+07</td>\n    </tr>\n  </tbody>\n</table>\n</div>"
          },
          "metadata": {}
        },
        {
          "output_type": "display_data",
          "data": {
            "text/plain": "(674, 20)"
          },
          "metadata": {}
        }
      ],
      "execution_count": null
    },
    {
      "cell_type": "code",
      "source": [],
      "metadata": {
        "id": "INWg0jSWDFzH",
        "trusted": true
      },
      "outputs": [],
      "execution_count": null
    },
    {
      "cell_type": "code",
      "source": [
        "train_df = pd.merge(train, train_features, on='location_id', how='left')\n",
        "test_df = pd.merge(test, test_features, on='location_id', how='left')\n",
        "\n",
        "\n",
        "display(train_df.head(), train_df.shape, test_df.head(), test_df.shape)"
      ],
      "metadata": {
        "id": "KZ9xoR3otFXL",
        "outputId": "6b189595-c75c-4eb2-c836-31cc82a306d1",
        "trusted": true,
        "execution": {
          "iopub.status.busy": "2025-02-17T11:02:17.054760Z",
          "iopub.execute_input": "2025-02-17T11:02:17.054999Z",
          "iopub.status.idle": "2025-02-17T11:02:17.412427Z",
          "shell.execute_reply.started": "2025-02-17T11:02:17.054979Z",
          "shell.execute_reply": "2025-02-17T11:02:17.411720Z"
        }
      },
      "outputs": [
        {
          "output_type": "display_data",
          "data": {
            "text/plain": "              event_id  precipitation  label      location_id  event_idx  \\\n0  id_spictby0jfsb_X_0       0.000000      0  id_spictby0jfsb          0   \n1  id_spictby0jfsb_X_1       0.095438      0  id_spictby0jfsb          0   \n2  id_spictby0jfsb_X_2       1.949560      0  id_spictby0jfsb          0   \n3  id_spictby0jfsb_X_3       3.232160      0  id_spictby0jfsb          0   \n4  id_spictby0jfsb_X_4       0.000000      0  id_spictby0jfsb          0   \n\n   event_t  flood_probability  NDVI_mean  NDVI_median  NDVI_std  ...  \\\n0        0           0.007361   0.206589     0.112392  1.856842  ...   \n1        1           0.007361   0.206589     0.112392  1.856842  ...   \n2        2           0.007361   0.206589     0.112392  1.856842  ...   \n3        3           0.007361   0.206589     0.112392  1.856842  ...   \n4        4           0.007361   0.206589     0.112392  1.856842  ...   \n\n   MNDWI_std  MSI_mean  MSI_median   MSI_std   Slope_mean  Slope_median  \\\n0    2.21292  1.516779    1.538386  0.160784  1567.658386        2077.0   \n1    2.21292  1.516779    1.538386  0.160784  1567.658386        2077.0   \n2    2.21292  1.516779    1.538386  0.160784  1567.658386        2077.0   \n3    2.21292  1.516779    1.538386  0.160784  1567.658386        2077.0   \n4    2.21292  1.516779    1.538386  0.160784  1567.658386        2077.0   \n\n     Slope_std       EVI_mean  EVI_median       EVI_std  \n0  1337.516578  115813.527968   -1.395941  8.601600e+06  \n1  1337.516578  115813.527968   -1.395941  8.601600e+06  \n2  1337.516578  115813.527968   -1.395941  8.601600e+06  \n3  1337.516578  115813.527968   -1.395941  8.601600e+06  \n4  1337.516578  115813.527968   -1.395941  8.601600e+06  \n\n[5 rows x 25 columns]",
            "text/html": "<div>\n<style scoped>\n    .dataframe tbody tr th:only-of-type {\n        vertical-align: middle;\n    }\n\n    .dataframe tbody tr th {\n        vertical-align: top;\n    }\n\n    .dataframe thead th {\n        text-align: right;\n    }\n</style>\n<table border=\"1\" class=\"dataframe\">\n  <thead>\n    <tr style=\"text-align: right;\">\n      <th></th>\n      <th>event_id</th>\n      <th>precipitation</th>\n      <th>label</th>\n      <th>location_id</th>\n      <th>event_idx</th>\n      <th>event_t</th>\n      <th>flood_probability</th>\n      <th>NDVI_mean</th>\n      <th>NDVI_median</th>\n      <th>NDVI_std</th>\n      <th>...</th>\n      <th>MNDWI_std</th>\n      <th>MSI_mean</th>\n      <th>MSI_median</th>\n      <th>MSI_std</th>\n      <th>Slope_mean</th>\n      <th>Slope_median</th>\n      <th>Slope_std</th>\n      <th>EVI_mean</th>\n      <th>EVI_median</th>\n      <th>EVI_std</th>\n    </tr>\n  </thead>\n  <tbody>\n    <tr>\n      <th>0</th>\n      <td>id_spictby0jfsb_X_0</td>\n      <td>0.000000</td>\n      <td>0</td>\n      <td>id_spictby0jfsb</td>\n      <td>0</td>\n      <td>0</td>\n      <td>0.007361</td>\n      <td>0.206589</td>\n      <td>0.112392</td>\n      <td>1.856842</td>\n      <td>...</td>\n      <td>2.21292</td>\n      <td>1.516779</td>\n      <td>1.538386</td>\n      <td>0.160784</td>\n      <td>1567.658386</td>\n      <td>2077.0</td>\n      <td>1337.516578</td>\n      <td>115813.527968</td>\n      <td>-1.395941</td>\n      <td>8.601600e+06</td>\n    </tr>\n    <tr>\n      <th>1</th>\n      <td>id_spictby0jfsb_X_1</td>\n      <td>0.095438</td>\n      <td>0</td>\n      <td>id_spictby0jfsb</td>\n      <td>0</td>\n      <td>1</td>\n      <td>0.007361</td>\n      <td>0.206589</td>\n      <td>0.112392</td>\n      <td>1.856842</td>\n      <td>...</td>\n      <td>2.21292</td>\n      <td>1.516779</td>\n      <td>1.538386</td>\n      <td>0.160784</td>\n      <td>1567.658386</td>\n      <td>2077.0</td>\n      <td>1337.516578</td>\n      <td>115813.527968</td>\n      <td>-1.395941</td>\n      <td>8.601600e+06</td>\n    </tr>\n    <tr>\n      <th>2</th>\n      <td>id_spictby0jfsb_X_2</td>\n      <td>1.949560</td>\n      <td>0</td>\n      <td>id_spictby0jfsb</td>\n      <td>0</td>\n      <td>2</td>\n      <td>0.007361</td>\n      <td>0.206589</td>\n      <td>0.112392</td>\n      <td>1.856842</td>\n      <td>...</td>\n      <td>2.21292</td>\n      <td>1.516779</td>\n      <td>1.538386</td>\n      <td>0.160784</td>\n      <td>1567.658386</td>\n      <td>2077.0</td>\n      <td>1337.516578</td>\n      <td>115813.527968</td>\n      <td>-1.395941</td>\n      <td>8.601600e+06</td>\n    </tr>\n    <tr>\n      <th>3</th>\n      <td>id_spictby0jfsb_X_3</td>\n      <td>3.232160</td>\n      <td>0</td>\n      <td>id_spictby0jfsb</td>\n      <td>0</td>\n      <td>3</td>\n      <td>0.007361</td>\n      <td>0.206589</td>\n      <td>0.112392</td>\n      <td>1.856842</td>\n      <td>...</td>\n      <td>2.21292</td>\n      <td>1.516779</td>\n      <td>1.538386</td>\n      <td>0.160784</td>\n      <td>1567.658386</td>\n      <td>2077.0</td>\n      <td>1337.516578</td>\n      <td>115813.527968</td>\n      <td>-1.395941</td>\n      <td>8.601600e+06</td>\n    </tr>\n    <tr>\n      <th>4</th>\n      <td>id_spictby0jfsb_X_4</td>\n      <td>0.000000</td>\n      <td>0</td>\n      <td>id_spictby0jfsb</td>\n      <td>0</td>\n      <td>4</td>\n      <td>0.007361</td>\n      <td>0.206589</td>\n      <td>0.112392</td>\n      <td>1.856842</td>\n      <td>...</td>\n      <td>2.21292</td>\n      <td>1.516779</td>\n      <td>1.538386</td>\n      <td>0.160784</td>\n      <td>1567.658386</td>\n      <td>2077.0</td>\n      <td>1337.516578</td>\n      <td>115813.527968</td>\n      <td>-1.395941</td>\n      <td>8.601600e+06</td>\n    </tr>\n  </tbody>\n</table>\n<p>5 rows × 25 columns</p>\n</div>"
          },
          "metadata": {}
        },
        {
          "output_type": "display_data",
          "data": {
            "text/plain": "(492020, 25)"
          },
          "metadata": {}
        },
        {
          "output_type": "display_data",
          "data": {
            "text/plain": "              event_id  precipitation      location_id  event_idx  event_t  \\\n0  id_j7b6sokflo4k_X_0        0.00000  id_j7b6sokflo4k          0        0   \n1  id_j7b6sokflo4k_X_1        3.01864  id_j7b6sokflo4k          0        1   \n2  id_j7b6sokflo4k_X_2        0.00000  id_j7b6sokflo4k          0        2   \n3  id_j7b6sokflo4k_X_3       16.61520  id_j7b6sokflo4k          0        3   \n4  id_j7b6sokflo4k_X_4        2.56706  id_j7b6sokflo4k          0        4   \n\n   flood_probability  NDVI_mean  NDVI_median  NDVI_std  NDWI_mean  ...  \\\n0            0.99917    0.31329     0.115435  1.661317  19.048946  ...   \n1            0.99917    0.31329     0.115435  1.661317  19.048946  ...   \n2            0.99917    0.31329     0.115435  1.661317  19.048946  ...   \n3            0.99917    0.31329     0.115435  1.661317  19.048946  ...   \n4            0.99917    0.31329     0.115435  1.661317  19.048946  ...   \n\n   MNDWI_std  MSI_mean  MSI_median   MSI_std   Slope_mean  Slope_median  \\\n0   3.109924  1.132556    1.153117  0.191815  1735.735657        2079.0   \n1   3.109924  1.132556    1.153117  0.191815  1735.735657        2079.0   \n2   3.109924  1.132556    1.153117  0.191815  1735.735657        2079.0   \n3   3.109924  1.132556    1.153117  0.191815  1735.735657        2079.0   \n4   3.109924  1.132556    1.153117  0.191815  1735.735657        2079.0   \n\n     Slope_std       EVI_mean  EVI_median       EVI_std  \n0  1412.857797  189665.803739   -0.762151  1.968043e+07  \n1  1412.857797  189665.803739   -0.762151  1.968043e+07  \n2  1412.857797  189665.803739   -0.762151  1.968043e+07  \n3  1412.857797  189665.803739   -0.762151  1.968043e+07  \n4  1412.857797  189665.803739   -0.762151  1.968043e+07  \n\n[5 rows x 24 columns]",
            "text/html": "<div>\n<style scoped>\n    .dataframe tbody tr th:only-of-type {\n        vertical-align: middle;\n    }\n\n    .dataframe tbody tr th {\n        vertical-align: top;\n    }\n\n    .dataframe thead th {\n        text-align: right;\n    }\n</style>\n<table border=\"1\" class=\"dataframe\">\n  <thead>\n    <tr style=\"text-align: right;\">\n      <th></th>\n      <th>event_id</th>\n      <th>precipitation</th>\n      <th>location_id</th>\n      <th>event_idx</th>\n      <th>event_t</th>\n      <th>flood_probability</th>\n      <th>NDVI_mean</th>\n      <th>NDVI_median</th>\n      <th>NDVI_std</th>\n      <th>NDWI_mean</th>\n      <th>...</th>\n      <th>MNDWI_std</th>\n      <th>MSI_mean</th>\n      <th>MSI_median</th>\n      <th>MSI_std</th>\n      <th>Slope_mean</th>\n      <th>Slope_median</th>\n      <th>Slope_std</th>\n      <th>EVI_mean</th>\n      <th>EVI_median</th>\n      <th>EVI_std</th>\n    </tr>\n  </thead>\n  <tbody>\n    <tr>\n      <th>0</th>\n      <td>id_j7b6sokflo4k_X_0</td>\n      <td>0.00000</td>\n      <td>id_j7b6sokflo4k</td>\n      <td>0</td>\n      <td>0</td>\n      <td>0.99917</td>\n      <td>0.31329</td>\n      <td>0.115435</td>\n      <td>1.661317</td>\n      <td>19.048946</td>\n      <td>...</td>\n      <td>3.109924</td>\n      <td>1.132556</td>\n      <td>1.153117</td>\n      <td>0.191815</td>\n      <td>1735.735657</td>\n      <td>2079.0</td>\n      <td>1412.857797</td>\n      <td>189665.803739</td>\n      <td>-0.762151</td>\n      <td>1.968043e+07</td>\n    </tr>\n    <tr>\n      <th>1</th>\n      <td>id_j7b6sokflo4k_X_1</td>\n      <td>3.01864</td>\n      <td>id_j7b6sokflo4k</td>\n      <td>0</td>\n      <td>1</td>\n      <td>0.99917</td>\n      <td>0.31329</td>\n      <td>0.115435</td>\n      <td>1.661317</td>\n      <td>19.048946</td>\n      <td>...</td>\n      <td>3.109924</td>\n      <td>1.132556</td>\n      <td>1.153117</td>\n      <td>0.191815</td>\n      <td>1735.735657</td>\n      <td>2079.0</td>\n      <td>1412.857797</td>\n      <td>189665.803739</td>\n      <td>-0.762151</td>\n      <td>1.968043e+07</td>\n    </tr>\n    <tr>\n      <th>2</th>\n      <td>id_j7b6sokflo4k_X_2</td>\n      <td>0.00000</td>\n      <td>id_j7b6sokflo4k</td>\n      <td>0</td>\n      <td>2</td>\n      <td>0.99917</td>\n      <td>0.31329</td>\n      <td>0.115435</td>\n      <td>1.661317</td>\n      <td>19.048946</td>\n      <td>...</td>\n      <td>3.109924</td>\n      <td>1.132556</td>\n      <td>1.153117</td>\n      <td>0.191815</td>\n      <td>1735.735657</td>\n      <td>2079.0</td>\n      <td>1412.857797</td>\n      <td>189665.803739</td>\n      <td>-0.762151</td>\n      <td>1.968043e+07</td>\n    </tr>\n    <tr>\n      <th>3</th>\n      <td>id_j7b6sokflo4k_X_3</td>\n      <td>16.61520</td>\n      <td>id_j7b6sokflo4k</td>\n      <td>0</td>\n      <td>3</td>\n      <td>0.99917</td>\n      <td>0.31329</td>\n      <td>0.115435</td>\n      <td>1.661317</td>\n      <td>19.048946</td>\n      <td>...</td>\n      <td>3.109924</td>\n      <td>1.132556</td>\n      <td>1.153117</td>\n      <td>0.191815</td>\n      <td>1735.735657</td>\n      <td>2079.0</td>\n      <td>1412.857797</td>\n      <td>189665.803739</td>\n      <td>-0.762151</td>\n      <td>1.968043e+07</td>\n    </tr>\n    <tr>\n      <th>4</th>\n      <td>id_j7b6sokflo4k_X_4</td>\n      <td>2.56706</td>\n      <td>id_j7b6sokflo4k</td>\n      <td>0</td>\n      <td>4</td>\n      <td>0.99917</td>\n      <td>0.31329</td>\n      <td>0.115435</td>\n      <td>1.661317</td>\n      <td>19.048946</td>\n      <td>...</td>\n      <td>3.109924</td>\n      <td>1.132556</td>\n      <td>1.153117</td>\n      <td>0.191815</td>\n      <td>1735.735657</td>\n      <td>2079.0</td>\n      <td>1412.857797</td>\n      <td>189665.803739</td>\n      <td>-0.762151</td>\n      <td>1.968043e+07</td>\n    </tr>\n  </tbody>\n</table>\n<p>5 rows × 24 columns</p>\n</div>"
          },
          "metadata": {}
        },
        {
          "output_type": "display_data",
          "data": {
            "text/plain": "(163520, 24)"
          },
          "metadata": {}
        }
      ],
      "execution_count": null
    },
    {
      "cell_type": "markdown",
      "source": [
        "### More Feature Engineering"
      ],
      "metadata": {
        "id": "2-LUpXHpEiI_"
      }
    },
    {
      "cell_type": "code",
      "source": [
        "def get_date_like_features(data):\n",
        "  data['event_t'] = data['event_t'].astype(int)\n",
        "  data['event_t_5_window'] = data['event_t'] // 3\n",
        "  return data"
      ],
      "metadata": {
        "id": "C_W9eqq5lWSj",
        "trusted": true,
        "execution": {
          "iopub.status.busy": "2025-02-17T11:02:17.413135Z",
          "iopub.execute_input": "2025-02-17T11:02:17.413343Z",
          "iopub.status.idle": "2025-02-17T11:02:17.417478Z",
          "shell.execute_reply.started": "2025-02-17T11:02:17.413309Z",
          "shell.execute_reply": "2025-02-17T11:02:17.416671Z"
        }
      },
      "outputs": [],
      "execution_count": null
    },
    {
      "cell_type": "code",
      "source": [
        "# train_df.groupby(['location_id'])['label'].agg('count')"
      ],
      "metadata": {
        "id": "FFIRoZ-vzPXZ",
        "trusted": true,
        "execution": {
          "iopub.status.busy": "2025-02-17T11:02:17.418408Z",
          "iopub.execute_input": "2025-02-17T11:02:17.418640Z",
          "iopub.status.idle": "2025-02-17T11:02:17.431993Z",
          "shell.execute_reply.started": "2025-02-17T11:02:17.418622Z",
          "shell.execute_reply": "2025-02-17T11:02:17.431179Z"
        }
      },
      "outputs": [],
      "execution_count": null
    },
    {
      "cell_type": "code",
      "source": [
        "sns.displot((train['precipitation']))"
      ],
      "metadata": {
        "id": "735dpfV9jWBP",
        "outputId": "5dc96928-c3bf-4cb9-f127-2e9bf7a7324e",
        "trusted": true,
        "execution": {
          "iopub.status.busy": "2025-02-17T11:02:17.432787Z",
          "iopub.execute_input": "2025-02-17T11:02:17.433003Z",
          "iopub.status.idle": "2025-02-17T11:02:18.053190Z",
          "shell.execute_reply.started": "2025-02-17T11:02:17.432985Z",
          "shell.execute_reply": "2025-02-17T11:02:18.052461Z"
        }
      },
      "outputs": [
        {
          "execution_count": 12,
          "output_type": "execute_result",
          "data": {
            "text/plain": "<seaborn.axisgrid.FacetGrid at 0x7a7ef3f6bb20>"
          },
          "metadata": {}
        },
        {
          "output_type": "display_data",
          "data": {
            "text/plain": "<Figure size 500x500 with 1 Axes>",
            "image/png": "[encoded data removed]"
          },
          "metadata": {}
        }
      ],
      "execution_count": null
    },
    {
      "cell_type": "code",
      "source": [
        "sns.displot(np.log1p(test['precipitation']))"
      ],
      "metadata": {
        "id": "udQOJlILjbxg",
        "outputId": "d320d4ef-4470-42f4-e349-6774708212f2",
        "trusted": true,
        "execution": {
          "iopub.status.busy": "2025-02-17T11:02:18.053900Z",
          "iopub.execute_input": "2025-02-17T11:02:18.054092Z",
          "iopub.status.idle": "2025-02-17T11:02:18.402155Z",
          "shell.execute_reply.started": "2025-02-17T11:02:18.054075Z",
          "shell.execute_reply": "2025-02-17T11:02:18.401167Z"
        }
      },
      "outputs": [
        {
          "execution_count": 13,
          "output_type": "execute_result",
          "data": {
            "text/plain": "<seaborn.axisgrid.FacetGrid at 0x7a7eef29d570>"
          },
          "metadata": {}
        },
        {
          "output_type": "display_data",
          "data": {
            "text/plain": "<Figure size 500x500 with 1 Axes>",
            "image/png": "[encoded data removed]"
          },
          "metadata": {}
        }
      ],
      "execution_count": null
    },
    {
      "cell_type": "code",
      "source": [
        "train['event_t'].describe()"
      ],
      "metadata": {
        "id": "9BTmHt7chCp3",
        "outputId": "560b69a5-81cd-4d26-a49d-3a4612bab19e",
        "trusted": true,
        "execution": {
          "iopub.status.busy": "2025-02-17T11:02:18.403084Z",
          "iopub.execute_input": "2025-02-17T11:02:18.403444Z",
          "iopub.status.idle": "2025-02-17T11:02:18.419522Z",
          "shell.execute_reply.started": "2025-02-17T11:02:18.403399Z",
          "shell.execute_reply": "2025-02-17T11:02:18.418763Z"
        }
      },
      "outputs": [
        {
          "execution_count": 14,
          "output_type": "execute_result",
          "data": {
            "text/plain": "count    492020.000000\nmean        364.500000\nstd         210.732865\nmin           0.000000\n25%         182.000000\n50%         364.500000\n75%         547.000000\nmax         729.000000\nName: event_t, dtype: float64"
          },
          "metadata": {}
        }
      ],
      "execution_count": null
    },
    {
      "cell_type": "code",
      "source": [
        "train[train['label']==1]['event_t'].describe()"
      ],
      "metadata": {
        "id": "-ki63210TKP0",
        "outputId": "2e845d10-ef6d-42b0-ec21-c2a0ad0869d7",
        "trusted": true,
        "execution": {
          "iopub.status.busy": "2025-02-17T11:02:18.420413Z",
          "iopub.execute_input": "2025-02-17T11:02:18.420747Z",
          "iopub.status.idle": "2025-02-17T11:02:18.429101Z",
          "shell.execute_reply.started": "2025-02-17T11:02:18.420716Z",
          "shell.execute_reply": "2025-02-17T11:02:18.428310Z"
        }
      },
      "outputs": [
        {
          "execution_count": 15,
          "output_type": "execute_result",
          "data": {
            "text/plain": "count    318.000000\nmean     364.367925\nstd       40.259331\nmin      296.000000\n25%      328.250000\n50%      365.500000\n75%      396.000000\nmax      435.000000\nName: event_t, dtype: float64"
          },
          "metadata": {}
        }
      ],
      "execution_count": null
    },
    {
      "cell_type": "code",
      "source": [
        "train['event_t'].describe()"
      ],
      "metadata": {
        "id": "jJFnfQI6TTkd",
        "outputId": "49f13d54-3a76-4ade-e27c-79f850d33897",
        "trusted": true,
        "execution": {
          "iopub.status.busy": "2025-02-17T11:02:18.429929Z",
          "iopub.execute_input": "2025-02-17T11:02:18.430208Z",
          "iopub.status.idle": "2025-02-17T11:02:18.450331Z",
          "shell.execute_reply.started": "2025-02-17T11:02:18.430180Z",
          "shell.execute_reply": "2025-02-17T11:02:18.449653Z"
        }
      },
      "outputs": [
        {
          "execution_count": 16,
          "output_type": "execute_result",
          "data": {
            "text/plain": "count    492020.000000\nmean        364.500000\nstd         210.732865\nmin           0.000000\n25%         182.000000\n50%         364.500000\n75%         547.000000\nmax         729.000000\nName: event_t, dtype: float64"
          },
          "metadata": {}
        }
      ],
      "execution_count": null
    },
    {
      "cell_type": "code",
      "source": [
        "train[(train['precipitation']==0) & (train['label']==1)]['event_t'].describe()"
      ],
      "metadata": {
        "id": "b0H2DJzwkkym",
        "outputId": "3914d14e-b9bd-46ca-c758-7cdbc238c000",
        "trusted": true,
        "execution": {
          "iopub.status.busy": "2025-02-17T11:02:18.451023Z",
          "iopub.execute_input": "2025-02-17T11:02:18.451296Z",
          "iopub.status.idle": "2025-02-17T11:02:18.466034Z",
          "shell.execute_reply.started": "2025-02-17T11:02:18.451251Z",
          "shell.execute_reply": "2025-02-17T11:02:18.465234Z"
        }
      },
      "outputs": [
        {
          "execution_count": 17,
          "output_type": "execute_result",
          "data": {
            "text/plain": "count    120.000000\nmean     364.141667\nstd       40.033871\nmin      298.000000\n25%      328.750000\n50%      365.000000\n75%      395.500000\nmax      435.000000\nName: event_t, dtype: float64"
          },
          "metadata": {}
        }
      ],
      "execution_count": null
    },
    {
      "cell_type": "code",
      "source": [
        "train[(train['precipitation']!=0) & (train['label']==1)]['event_t'].describe()"
      ],
      "metadata": {
        "id": "id93nNj_lD67",
        "outputId": "03c7a7d8-9585-4832-be01-fcdc0518dd07",
        "trusted": true,
        "execution": {
          "iopub.status.busy": "2025-02-17T11:02:18.466885Z",
          "iopub.execute_input": "2025-02-17T11:02:18.467155Z",
          "iopub.status.idle": "2025-02-17T11:02:18.481513Z",
          "shell.execute_reply.started": "2025-02-17T11:02:18.467129Z",
          "shell.execute_reply": "2025-02-17T11:02:18.480646Z"
        }
      },
      "outputs": [
        {
          "execution_count": 18,
          "output_type": "execute_result",
          "data": {
            "text/plain": "count    198.000000\nmean     364.505051\nstd       40.496004\nmin      296.000000\n25%      327.500000\n50%      366.000000\n75%      396.000000\nmax      435.000000\nName: event_t, dtype: float64"
          },
          "metadata": {}
        }
      ],
      "execution_count": null
    },
    {
      "cell_type": "code",
      "source": [
        "train['location_id'].nunique()"
      ],
      "metadata": {
        "id": "Pu_dXE2KJEk4",
        "outputId": "53657444-1e2e-4315-a7df-177a9ce1593c",
        "trusted": true,
        "execution": {
          "iopub.status.busy": "2025-02-17T11:02:18.482492Z",
          "iopub.execute_input": "2025-02-17T11:02:18.482747Z",
          "iopub.status.idle": "2025-02-17T11:02:18.519303Z",
          "shell.execute_reply.started": "2025-02-17T11:02:18.482727Z",
          "shell.execute_reply": "2025-02-17T11:02:18.518441Z"
        }
      },
      "outputs": [
        {
          "execution_count": 19,
          "output_type": "execute_result",
          "data": {
            "text/plain": "674"
          },
          "metadata": {}
        }
      ],
      "execution_count": null
    },
    {
      "cell_type": "code",
      "source": [
        "from types import new_class\n",
        "def apply_expanding_combinations(df, group_cols_list, target_col='Sales', shift_periods=[1], min_periods=1, stats=['mean', 'std']):\n",
        "    # Loop through the group column combinations\n",
        "    for group_cols in group_cols_list:\n",
        "        # Generate base name for the grouping\n",
        "        group_name = '_'.join(group_cols)\n",
        "\n",
        "        for shift_period in shift_periods:\n",
        "            for stat in stats:\n",
        "                expanding_col_name = f'expanding_grouped_{group_name}_{target_col}_shift_{shift_period}_{stat}'\n",
        "\n",
        "                # Apply groupby, shift, and expanding for the given statistic\n",
        "                df[expanding_col_name] = df.groupby(group_cols)[target_col].transform(\n",
        "                    lambda x: x.shift(shift_period).expanding(min_periods=min_periods).agg(stat)\n",
        "                )\n",
        "\n",
        "    return df\n",
        "\n",
        "def smoothen_target(df, group_cols, target_col):\n",
        "  n_std = 10\n",
        "  for i_smooth in [target_col]:\n",
        "      df_id_outlier = df.groupby(group_cols,as_index=False).agg({\n",
        "          f'{i_smooth}': lambda x: x.mean() + n_std*x.std()\n",
        "      }).rename(columns={f'{i_smooth}':f'{i_smooth}_outlier'})\n",
        "\n",
        "      df_id_mean = df.groupby(group_cols,as_index=False).agg({\n",
        "          f'{i_smooth}': 'mean'\n",
        "      }).rename(columns={f'{i_smooth}':f'{i_smooth}_mean'})\n",
        "\n",
        "      df = df.merge(df_id_outlier, on=group_cols[0], how='left')\n",
        "      df = df.merge(df_id_mean, on=group_cols[0], how='left')\n",
        "\n",
        "      df[f'{i_smooth}'] = np.where(\n",
        "          df[f'{i_smooth}'] > df[f'{i_smooth}_outlier'],\n",
        "          df[f'{i_smooth}_mean'],\n",
        "          df[f'{i_smooth}']\n",
        "      )\n",
        "\n",
        "  return df\n",
        "\n",
        "\n",
        "def create_rolling_features(data, group_cols, target_col, windows, shift_period, min_period, statistics):\n",
        "    def apply_statistic(x, stat):\n",
        "        rolled = x.shift(shift_period).rolling(window=window, min_periods=min_period)\n",
        "        if stat == 'mean':\n",
        "            return rolled.mean()\n",
        "        elif stat == 'median':\n",
        "            return rolled.median()\n",
        "        elif stat == 'std':\n",
        "            return rolled.std()\n",
        "        elif stat == 'min':\n",
        "            return rolled.min()\n",
        "        elif stat == 'max':\n",
        "            return rolled.max()\n",
        "        elif stat == 'skew':\n",
        "            return rolled.skew()\n",
        "        elif stat == 'sum':\n",
        "            return rolled.sum()\n",
        "        elif stat == 'quantile':\n",
        "            return rolled.quantile(0.95)\n",
        "\n",
        "        elif stat.startswith('quantile_'):\n",
        "            q = float(stat.split('_')[1])\n",
        "            return rolled.quantile(q)\n",
        "        else:\n",
        "            raise ValueError(f\"Unknown statistic: {stat}\")\n",
        "\n",
        "    for window in windows:\n",
        "        for stat in statistics:\n",
        "            stat_name = stat if not stat.startswith('quantile_') else f\"{stat.split('_')[1]}th\"\n",
        "            col_name = f'rolling_previous_grouped_{target_col}_{stat_name}_{window}_{shift_period}'\n",
        "\n",
        "            data[col_name] = data.groupby(group_cols)[target_col].transform(\n",
        "                lambda x: apply_statistic(x, stat)\n",
        "            )\n",
        "\n",
        "    return data\n",
        "\n",
        "\n",
        "\n",
        "def custom_agg(x):\n",
        "    return x.max() - x.min()\n",
        "\n",
        "def get_date_features(df):\n",
        "  # Simulate year (assuming 365 days per year)\n",
        "  df['year'] = (df['event_t'] // 365) + 1  # Year 1 or 2\n",
        "\n",
        "  # Simulate month (approximate)\n",
        "  df['month'] = ((df['event_t'] % 365) // 30) + 1  # 30-day months approximation\n",
        "\n",
        "  # Simulate week of the year\n",
        "  df['week_of_year'] = (df['event_t'] % 365) // 7 + 1\n",
        "\n",
        "  # Simulate day of the month\n",
        "  df['day_of_month'] = (df['event_t'] % 30) + 1  # Assuming 30-day months\n",
        "\n",
        "  # Simulate day of the week (0 = Monday, 6 = Sunday)\n",
        "  df['day_of_week'] = df['event_t'] % 7\n",
        "\n",
        "  # Simulate quarter\n",
        "  df['quarter'] = ((df['month'] - 1) // 3) + 1\n",
        "  return  df\n",
        "\n",
        "\n",
        "\n",
        "\n",
        "def feature_engineering(train, test):\n",
        "  data = pd.concat([train, test])\n",
        "  data.sort_values(by = ['location_id', 'event_t'], inplace=True)\n",
        "  data['event_t'] = data['event_t'].astype(int)\n",
        "  # data = smoothen_target(data, ['location_id'], 'precipitation')\n",
        "\n",
        "  data['event_binary'] = data['event_t'].apply(lambda x: 1 if (x >= 296 and x <= 435) else 0)\n",
        "\n",
        "\n",
        "  group_cols =['location_id']\n",
        "  # data = apply_expanding_combinations(\n",
        "  #     data,\n",
        "  #     [group_cols],\n",
        "  #     target_col='precipitation',\n",
        "  #     shift_periods=[1],#1,3, 4, 5, 6, 7, 8, 24\n",
        "  #     min_periods=1,\n",
        "  #     stats=['mean']\n",
        "  # )\n",
        "\n",
        "  statistics = ['mean'] #, 'median', 'std', 'quantile_0.25', 'quantile_0.75'\n",
        "  min_period = 1\n",
        "\n",
        "  shift_period = 0\n",
        "  windows = [3, 4,10,20, 25, 30,55,60, 75, 296]#3, 4, 10, 20,25,30, 50, 55, 60, 75,\n",
        "  data = create_rolling_features(data, group_cols,'precipitation', windows, shift_period, min_period, statistics)\n",
        "\n",
        "  # shift_period = 2\n",
        "  # windows = [3, 4,10,20, 25, 30,55,60, 75,296]#3, 4, 10, 20,25,30, 50, 55, 60, 75,\n",
        "  # data = create_rolling_features(data, group_cols,'precipitation', windows, shift_period, min_period, statistics)\n",
        "\n",
        "  # shift_period = 3\n",
        "  # windows = [3, 4,10,20, 25, 30,55,60, 75,296]#3, 4, 10, 20,25,30, 50, 55, 60, 75,\n",
        "  # data = create_rolling_features(data, group_cols,'precipitation', windows, shift_period, min_period, statistics)\n",
        "\n",
        "  # shift_period = 4\n",
        "  # windows = [3, 4,10,20, 25, 30,55,60, 75,296]#3, 4, 10, 20,25,30, 50, 55, 60, 75,\n",
        "  # data = create_rolling_features(data, group_cols,'precipitation', windows, shift_period, min_period, statistics)\n",
        "\n",
        "  # shift_period = 5\n",
        "  # windows = [3, 4,10,20, 25, 30,55,60, 75,296]#3, 4, 10, 20,25,30, 50, 55, 60, 75,\n",
        "  # data = create_rolling_features(data, group_cols,'precipitation', windows, shift_period, min_period, statistics)\n",
        "\n",
        "  # shift_period = 6\n",
        "  # windows = [ 3,4,10,20, 25, 30,55,60, 75,296]#3, 4, 10, 20,25,30, 50, 55, 60, 75,\n",
        "  # data = create_rolling_features(data, group_cols,'precipitation', windows, shift_period, min_period, statistics)\n",
        "\n",
        "  # shift_period = 8\n",
        "  # windows = [ 3,4,10,20, 25, 30,55,60, 75,296]#3, 4, 10, 20,25,30, 50, 55, 60, 75,\n",
        "  # data = create_rolling_features(data, group_cols,'precipitation', windows, shift_period, min_period, statistics)\n",
        "  # # data = get_date_features(data)\n",
        "\n",
        "  for col in ['precipitation']:\n",
        "    # data[f\"grouped_location_{col}_cum\"] = data.groupby('location_id')[col].cumsum().shift(1)\n",
        "\n",
        "    # quantile = 0.95  # Define the quantile you want to calculate\n",
        "    # for stat in ['mean', 'quantile']:\n",
        "    #     if stat != 'quantile':\n",
        "    #         data[f\"location_grouped_{col}_{stat}\"] = data.groupby('location_id')[col].transform(stat)\n",
        "    #         data[f\"diff_{col}_{stat}\"] = data[col] - data[f\"location_grouped_{col}_{stat}\"]\n",
        "\n",
        "\n",
        "    for shift in range(1,365):\n",
        "      data[f'{col}_shift_{shift}'] = data.groupby('location_id')[col].shift(shift)\n",
        "      data[f'{col}_next_shift_{shift}'] = data.groupby('location_id')[col].shift(-shift)\n",
        "\n",
        "\n",
        "\n",
        "\n",
        "    # for window in windows:\n",
        "    #   data[f'{col}_rolling_grouped_custom_{window}'] = (\n",
        "    #       data.groupby('location_id')[col]\n",
        "    #       .rolling(window)\n",
        "    #       .apply(custom_agg)\n",
        "    #       .reset_index(level=0, drop=True)  # Reset the index to align with the original DataFrame\n",
        "    #   )\n",
        "\n",
        "    for span in [7]:\n",
        "        data[f'{col}_ewm_grouped_mean_{span}'] = (\n",
        "            data.groupby('location_id')[col]\n",
        "            .ewm(span=span, adjust=False)\n",
        "            .mean()\n",
        "            .reset_index(level=0, drop=True)  # Reset the index to align it with the original DataFrame\n",
        "        )\n",
        "\n",
        "\n",
        "\n",
        "\n",
        "  train = data[data['label'].notna()].reset_index(drop = True)\n",
        "  test = data[data['label'].isna()].reset_index(drop = True)\n",
        "\n",
        "  return train, test\n",
        "\n",
        "new_train, new_test = feature_engineering(train_df, test_df)\n",
        "display(new_train.head(), new_train.shape, new_test.head(), new_test.shape)"
      ],
      "metadata": {
        "id": "H-HFjk91EmcZ",
        "outputId": "fe7c7fad-23ab-4b12-e56a-0c8428f10dfb",
        "trusted": true,
        "execution": {
          "iopub.status.busy": "2025-02-17T11:02:18.520295Z",
          "iopub.execute_input": "2025-02-17T11:02:18.520593Z",
          "iopub.status.idle": "2025-02-17T11:03:08.646894Z",
          "shell.execute_reply.started": "2025-02-17T11:02:18.520539Z",
          "shell.execute_reply": "2025-02-17T11:03:08.646254Z"
        }
      },
      "outputs": [
        {
          "output_type": "display_data",
          "data": {
            "text/plain": "              event_id  precipitation  label      location_id  event_idx  \\\n0  id_05v6zjuaf300_X_0        0.00000    0.0  id_05v6zjuaf300        435   \n1  id_05v6zjuaf300_X_1        9.45176    0.0  id_05v6zjuaf300        435   \n2  id_05v6zjuaf300_X_2        0.00000    0.0  id_05v6zjuaf300        435   \n3  id_05v6zjuaf300_X_3        0.00000    0.0  id_05v6zjuaf300        435   \n4  id_05v6zjuaf300_X_4        0.00000    0.0  id_05v6zjuaf300        435   \n\n   event_t  flood_probability  NDVI_mean  NDVI_median  NDVI_std  ...  \\\n0        0           0.997973   0.306647     0.289123  0.300898  ...   \n1        1           0.997973   0.306647     0.289123  0.300898  ...   \n2        2           0.997973   0.306647     0.289123  0.300898  ...   \n3        3           0.997973   0.306647     0.289123  0.300898  ...   \n4        4           0.997973   0.306647     0.289123  0.300898  ...   \n\n   precipitation_next_shift_360  precipitation_shift_361  \\\n0                       0.00000                      NaN   \n1                       0.00000                      NaN   \n2                       0.00000                      NaN   \n3                       0.00000                      NaN   \n4                       6.01065                      NaN   \n\n   precipitation_next_shift_361  precipitation_shift_362  \\\n0                       0.00000                      NaN   \n1                       0.00000                      NaN   \n2                       0.00000                      NaN   \n3                       6.01065                      NaN   \n4                      24.95070                      NaN   \n\n   precipitation_next_shift_362  precipitation_shift_363  \\\n0                       0.00000                      NaN   \n1                       0.00000                      NaN   \n2                       6.01065                      NaN   \n3                      24.95070                      NaN   \n4                       0.00000                      NaN   \n\n   precipitation_next_shift_363  precipitation_shift_364  \\\n0                       0.00000                      NaN   \n1                       6.01065                      NaN   \n2                      24.95070                      NaN   \n3                       0.00000                      NaN   \n4                       0.00000                      NaN   \n\n   precipitation_next_shift_364  precipitation_ewm_grouped_mean_7  \n0                       6.01065                          0.000000  \n1                      24.95070                          2.362940  \n2                       0.00000                          1.772205  \n3                       0.00000                          1.329154  \n4                       0.00000                          0.996865  \n\n[5 rows x 765 columns]",
            "text/html": "<div>\n<style scoped>\n    .dataframe tbody tr th:only-of-type {\n        vertical-align: middle;\n    }\n\n    .dataframe tbody tr th {\n        vertical-align: top;\n    }\n\n    .dataframe thead th {\n        text-align: right;\n    }\n</style>\n<table border=\"1\" class=\"dataframe\">\n  <thead>\n    <tr style=\"text-align: right;\">\n      <th></th>\n      <th>event_id</th>\n      <th>precipitation</th>\n      <th>label</th>\n      <th>location_id</th>\n      <th>event_idx</th>\n      <th>event_t</th>\n      <th>flood_probability</th>\n      <th>NDVI_mean</th>\n      <th>NDVI_median</th>\n      <th>NDVI_std</th>\n      <th>...</th>\n      <th>precipitation_next_shift_360</th>\n      <th>precipitation_shift_361</th>\n      <th>precipitation_next_shift_361</th>\n      <th>precipitation_shift_362</th>\n      <th>precipitation_next_shift_362</th>\n      <th>precipitation_shift_363</th>\n      <th>precipitation_next_shift_363</th>\n      <th>precipitation_shift_364</th>\n      <th>precipitation_next_shift_364</th>\n      <th>precipitation_ewm_grouped_mean_7</th>\n    </tr>\n  </thead>\n  <tbody>\n    <tr>\n      <th>0</th>\n      <td>id_05v6zjuaf300_X_0</td>\n      <td>0.00000</td>\n      <td>0.0</td>\n      <td>id_05v6zjuaf300</td>\n      <td>435</td>\n      <td>0</td>\n      <td>0.997973</td>\n      <td>0.306647</td>\n      <td>0.289123</td>\n      <td>0.300898</td>\n      <td>...</td>\n      <td>0.00000</td>\n      <td>NaN</td>\n      <td>0.00000</td>\n      <td>NaN</td>\n      <td>0.00000</td>\n      <td>NaN</td>\n      <td>0.00000</td>\n      <td>NaN</td>\n      <td>6.01065</td>\n      <td>0.000000</td>\n    </tr>\n    <tr>\n      <th>1</th>\n      <td>id_05v6zjuaf300_X_1</td>\n      <td>9.45176</td>\n      <td>0.0</td>\n      <td>id_05v6zjuaf300</td>\n      <td>435</td>\n      <td>1</td>\n      <td>0.997973</td>\n      <td>0.306647</td>\n      <td>0.289123</td>\n      <td>0.300898</td>\n      <td>...</td>\n      <td>0.00000</td>\n      <td>NaN</td>\n      <td>0.00000</td>\n      <td>NaN</td>\n      <td>0.00000</td>\n      <td>NaN</td>\n      <td>6.01065</td>\n      <td>NaN</td>\n      <td>24.95070</td>\n      <td>2.362940</td>\n    </tr>\n    <tr>\n      <th>2</th>\n      <td>id_05v6zjuaf300_X_2</td>\n      <td>0.00000</td>\n      <td>0.0</td>\n      <td>id_05v6zjuaf300</td>\n      <td>435</td>\n      <td>2</td>\n      <td>0.997973</td>\n      <td>0.306647</td>\n      <td>0.289123</td>\n      <td>0.300898</td>\n      <td>...</td>\n      <td>0.00000</td>\n      <td>NaN</td>\n      <td>0.00000</td>\n      <td>NaN</td>\n      <td>6.01065</td>\n      <td>NaN</td>\n      <td>24.95070</td>\n      <td>NaN</td>\n      <td>0.00000</td>\n      <td>1.772205</td>\n    </tr>\n    <tr>\n      <th>3</th>\n      <td>id_05v6zjuaf300_X_3</td>\n      <td>0.00000</td>\n      <td>0.0</td>\n      <td>id_05v6zjuaf300</td>\n      <td>435</td>\n      <td>3</td>\n      <td>0.997973</td>\n      <td>0.306647</td>\n      <td>0.289123</td>\n      <td>0.300898</td>\n      <td>...</td>\n      <td>0.00000</td>\n      <td>NaN</td>\n      <td>6.01065</td>\n      <td>NaN</td>\n      <td>24.95070</td>\n      <td>NaN</td>\n      <td>0.00000</td>\n      <td>NaN</td>\n      <td>0.00000</td>\n      <td>1.329154</td>\n    </tr>\n    <tr>\n      <th>4</th>\n      <td>id_05v6zjuaf300_X_4</td>\n      <td>0.00000</td>\n      <td>0.0</td>\n      <td>id_05v6zjuaf300</td>\n      <td>435</td>\n      <td>4</td>\n      <td>0.997973</td>\n      <td>0.306647</td>\n      <td>0.289123</td>\n      <td>0.300898</td>\n      <td>...</td>\n      <td>6.01065</td>\n      <td>NaN</td>\n      <td>24.95070</td>\n      <td>NaN</td>\n      <td>0.00000</td>\n      <td>NaN</td>\n      <td>0.00000</td>\n      <td>NaN</td>\n      <td>0.00000</td>\n      <td>0.996865</td>\n    </tr>\n  </tbody>\n</table>\n<p>5 rows × 765 columns</p>\n</div>"
          },
          "metadata": {}
        },
        {
          "output_type": "display_data",
          "data": {
            "text/plain": "(492020, 765)"
          },
          "metadata": {}
        },
        {
          "output_type": "display_data",
          "data": {
            "text/plain": "              event_id  precipitation  label      location_id  event_idx  \\\n0  id_066zz28m11mr_X_0            0.0    NaN  id_066zz28m11mr        118   \n1  id_066zz28m11mr_X_1            0.0    NaN  id_066zz28m11mr        118   \n2  id_066zz28m11mr_X_2            0.0    NaN  id_066zz28m11mr        118   \n3  id_066zz28m11mr_X_3            0.0    NaN  id_066zz28m11mr        118   \n4  id_066zz28m11mr_X_4            0.0    NaN  id_066zz28m11mr        118   \n\n   event_t  flood_probability  NDVI_mean  NDVI_median  NDVI_std  ...  \\\n0        0           0.013285   0.081579     0.079895  0.023026  ...   \n1        1           0.013285   0.081579     0.079895  0.023026  ...   \n2        2           0.013285   0.081579     0.079895  0.023026  ...   \n3        3           0.013285   0.081579     0.079895  0.023026  ...   \n4        4           0.013285   0.081579     0.079895  0.023026  ...   \n\n   precipitation_next_shift_360  precipitation_shift_361  \\\n0                      0.605245                      NaN   \n1                      0.000000                      NaN   \n2                      0.000000                      NaN   \n3                      0.000000                      NaN   \n4                      0.000000                      NaN   \n\n   precipitation_next_shift_361  precipitation_shift_362  \\\n0                           0.0                      NaN   \n1                           0.0                      NaN   \n2                           0.0                      NaN   \n3                           0.0                      NaN   \n4                           0.0                      NaN   \n\n   precipitation_next_shift_362  precipitation_shift_363  \\\n0                           0.0                      NaN   \n1                           0.0                      NaN   \n2                           0.0                      NaN   \n3                           0.0                      NaN   \n4                           0.0                      NaN   \n\n   precipitation_next_shift_363  precipitation_shift_364  \\\n0                           0.0                      NaN   \n1                           0.0                      NaN   \n2                           0.0                      NaN   \n3                           0.0                      NaN   \n4                           0.0                      NaN   \n\n   precipitation_next_shift_364  precipitation_ewm_grouped_mean_7  \n0                           0.0                               0.0  \n1                           0.0                               0.0  \n2                           0.0                               0.0  \n3                           0.0                               0.0  \n4                           0.0                               0.0  \n\n[5 rows x 765 columns]",
            "text/html": "<div>\n<style scoped>\n    .dataframe tbody tr th:only-of-type {\n        vertical-align: middle;\n    }\n\n    .dataframe tbody tr th {\n        vertical-align: top;\n    }\n\n    .dataframe thead th {\n        text-align: right;\n    }\n</style>\n<table border=\"1\" class=\"dataframe\">\n  <thead>\n    <tr style=\"text-align: right;\">\n      <th></th>\n      <th>event_id</th>\n      <th>precipitation</th>\n      <th>label</th>\n      <th>location_id</th>\n      <th>event_idx</th>\n      <th>event_t</th>\n      <th>flood_probability</th>\n      <th>NDVI_mean</th>\n      <th>NDVI_median</th>\n      <th>NDVI_std</th>\n      <th>...</th>\n      <th>precipitation_next_shift_360</th>\n      <th>precipitation_shift_361</th>\n      <th>precipitation_next_shift_361</th>\n      <th>precipitation_shift_362</th>\n      <th>precipitation_next_shift_362</th>\n      <th>precipitation_shift_363</th>\n      <th>precipitation_next_shift_363</th>\n      <th>precipitation_shift_364</th>\n      <th>precipitation_next_shift_364</th>\n      <th>precipitation_ewm_grouped_mean_7</th>\n    </tr>\n  </thead>\n  <tbody>\n    <tr>\n      <th>0</th>\n      <td>id_066zz28m11mr_X_0</td>\n      <td>0.0</td>\n      <td>NaN</td>\n      <td>id_066zz28m11mr</td>\n      <td>118</td>\n      <td>0</td>\n      <td>0.013285</td>\n      <td>0.081579</td>\n      <td>0.079895</td>\n      <td>0.023026</td>\n      <td>...</td>\n      <td>0.605245</td>\n      <td>NaN</td>\n      <td>0.0</td>\n      <td>NaN</td>\n      <td>0.0</td>\n      <td>NaN</td>\n      <td>0.0</td>\n      <td>NaN</td>\n      <td>0.0</td>\n      <td>0.0</td>\n    </tr>\n    <tr>\n      <th>1</th>\n      <td>id_066zz28m11mr_X_1</td>\n      <td>0.0</td>\n      <td>NaN</td>\n      <td>id_066zz28m11mr</td>\n      <td>118</td>\n      <td>1</td>\n      <td>0.013285</td>\n      <td>0.081579</td>\n      <td>0.079895</td>\n      <td>0.023026</td>\n      <td>...</td>\n      <td>0.000000</td>\n      <td>NaN</td>\n      <td>0.0</td>\n      <td>NaN</td>\n      <td>0.0</td>\n      <td>NaN</td>\n      <td>0.0</td>\n      <td>NaN</td>\n      <td>0.0</td>\n      <td>0.0</td>\n    </tr>\n    <tr>\n      <th>2</th>\n      <td>id_066zz28m11mr_X_2</td>\n      <td>0.0</td>\n      <td>NaN</td>\n      <td>id_066zz28m11mr</td>\n      <td>118</td>\n      <td>2</td>\n      <td>0.013285</td>\n      <td>0.081579</td>\n      <td>0.079895</td>\n      <td>0.023026</td>\n      <td>...</td>\n      <td>0.000000</td>\n      <td>NaN</td>\n      <td>0.0</td>\n      <td>NaN</td>\n      <td>0.0</td>\n      <td>NaN</td>\n      <td>0.0</td>\n      <td>NaN</td>\n      <td>0.0</td>\n      <td>0.0</td>\n    </tr>\n    <tr>\n      <th>3</th>\n      <td>id_066zz28m11mr_X_3</td>\n      <td>0.0</td>\n      <td>NaN</td>\n      <td>id_066zz28m11mr</td>\n      <td>118</td>\n      <td>3</td>\n      <td>0.013285</td>\n      <td>0.081579</td>\n      <td>0.079895</td>\n      <td>0.023026</td>\n      <td>...</td>\n      <td>0.000000</td>\n      <td>NaN</td>\n      <td>0.0</td>\n      <td>NaN</td>\n      <td>0.0</td>\n      <td>NaN</td>\n      <td>0.0</td>\n      <td>NaN</td>\n      <td>0.0</td>\n      <td>0.0</td>\n    </tr>\n    <tr>\n      <th>4</th>\n      <td>id_066zz28m11mr_X_4</td>\n      <td>0.0</td>\n      <td>NaN</td>\n      <td>id_066zz28m11mr</td>\n      <td>118</td>\n      <td>4</td>\n      <td>0.013285</td>\n      <td>0.081579</td>\n      <td>0.079895</td>\n      <td>0.023026</td>\n      <td>...</td>\n      <td>0.000000</td>\n      <td>NaN</td>\n      <td>0.0</td>\n      <td>NaN</td>\n      <td>0.0</td>\n      <td>NaN</td>\n      <td>0.0</td>\n      <td>NaN</td>\n      <td>0.0</td>\n      <td>0.0</td>\n    </tr>\n  </tbody>\n</table>\n<p>5 rows × 765 columns</p>\n</div>"
          },
          "metadata": {}
        },
        {
          "output_type": "display_data",
          "data": {
            "text/plain": "(163520, 765)"
          },
          "metadata": {}
        }
      ],
      "execution_count": null
    },
    {
      "cell_type": "code",
      "source": [
        "sns.distplot(new_test['precipitation'])"
      ],
      "metadata": {
        "id": "t4dZdDyRiEO3",
        "outputId": "8b48ea8a-17fc-4825-ca3b-81e07d7d6f8d",
        "trusted": true,
        "execution": {
          "iopub.status.busy": "2025-02-17T11:03:08.647671Z",
          "iopub.execute_input": "2025-02-17T11:03:08.647975Z",
          "iopub.status.idle": "2025-02-17T11:03:09.449715Z",
          "shell.execute_reply.started": "2025-02-17T11:03:08.647946Z",
          "shell.execute_reply": "2025-02-17T11:03:09.448819Z"
        }
      },
      "outputs": [
        {
          "execution_count": 21,
          "output_type": "execute_result",
          "data": {
            "text/plain": "<Axes: xlabel='precipitation', ylabel='Density'>"
          },
          "metadata": {}
        },
        {
          "output_type": "display_data",
          "data": {
            "text/plain": "<Figure size 640x480 with 1 Axes>",
            "image/png": "[encoded data removed]"
          },
          "metadata": {}
        }
      ],
      "execution_count": null
    },
    {
      "cell_type": "markdown",
      "source": [
        "### MODELLING\n",
        "674 224"
      ],
      "metadata": {
        "id": "7I1N0hGDlPHX"
      }
    },
    {
      "cell_type": "code",
      "source": [
        "new_train['label'].value_counts()"
      ],
      "metadata": {
        "id": "6n4Fco4Yt0H0",
        "outputId": "d3fa30b6-f2d9-42d2-e27b-e10362ff6ca2",
        "trusted": true,
        "execution": {
          "iopub.status.busy": "2025-02-17T11:03:09.450474Z",
          "iopub.execute_input": "2025-02-17T11:03:09.450730Z",
          "iopub.status.idle": "2025-02-17T11:03:09.461384Z",
          "shell.execute_reply.started": "2025-02-17T11:03:09.450707Z",
          "shell.execute_reply": "2025-02-17T11:03:09.460737Z"
        }
      },
      "outputs": [
        {
          "execution_count": 22,
          "output_type": "execute_result",
          "data": {
            "text/plain": "label\n0.0    491702\n1.0       318\nName: count, dtype: int64"
          },
          "metadata": {}
        }
      ],
      "execution_count": null
    },
    {
      "cell_type": "code",
      "source": [
        "selected_columns = []\n",
        "n_splits = 10\n",
        "seed = 2024\n",
        "gkf = StratifiedGroupKFold(n_splits = n_splits)\n",
        "\n",
        "new_train['fold'] = -1\n",
        "for fold, (_, val_idx) in enumerate(gkf.split(new_train, new_train['label'], groups = new_train['location_id'])):\n",
        "    new_train.loc[val_idx, \"fold\"] = fold\n",
        "\n",
        "new_train['fold'].value_counts()\n",
        "\n"
      ],
      "metadata": {
        "id": "imSZVxb7lQZk",
        "outputId": "e856854f-dba7-4ded-9da7-1d9fccf5150c",
        "trusted": true,
        "execution": {
          "iopub.status.busy": "2025-02-17T11:03:09.465114Z",
          "iopub.execute_input": "2025-02-17T11:03:09.465359Z",
          "iopub.status.idle": "2025-02-17T11:03:11.301358Z",
          "shell.execute_reply.started": "2025-02-17T11:03:09.465339Z",
          "shell.execute_reply": "2025-02-17T11:03:11.300479Z"
        }
      },
      "outputs": [
        {
          "execution_count": 23,
          "output_type": "execute_result",
          "data": {
            "text/plain": "fold\n2    49640\n0    49640\n6    49640\n1    49640\n9    48910\n4    48910\n8    48910\n7    48910\n3    48910\n5    48910\nName: count, dtype: int64"
          },
          "metadata": {}
        }
      ],
      "execution_count": null
    },
    {
      "cell_type": "code",
      "source": [
        "for i in range(n_splits):\n",
        "  print(new_train[new_train['fold'] == i]['label'].value_counts())\n",
        "  print(\"-\"* 100)"
      ],
      "metadata": {
        "id": "m3E9y965uGMG",
        "outputId": "96580b4b-9a83-43dc-a952-28729c9dbdc7",
        "trusted": true,
        "execution": {
          "iopub.status.busy": "2025-02-17T11:03:11.302542Z",
          "iopub.execute_input": "2025-02-17T11:03:11.302815Z",
          "iopub.status.idle": "2025-02-17T11:03:12.000922Z",
          "shell.execute_reply.started": "2025-02-17T11:03:11.302794Z",
          "shell.execute_reply": "2025-02-17T11:03:12.000163Z"
        }
      },
      "outputs": [
        {
          "name": "stdout",
          "text": "label\n0.0    49608\n1.0       32\nName: count, dtype: int64\n----------------------------------------------------------------------------------------------------\nlabel\n0.0    49608\n1.0       32\nName: count, dtype: int64\n----------------------------------------------------------------------------------------------------\nlabel\n0.0    49608\n1.0       32\nName: count, dtype: int64\n----------------------------------------------------------------------------------------------------\nlabel\n0.0    48879\n1.0       31\nName: count, dtype: int64\n----------------------------------------------------------------------------------------------------\nlabel\n0.0    48878\n1.0       32\nName: count, dtype: int64\n----------------------------------------------------------------------------------------------------\nlabel\n0.0    48879\n1.0       31\nName: count, dtype: int64\n----------------------------------------------------------------------------------------------------\nlabel\n0.0    49608\n1.0       32\nName: count, dtype: int64\n----------------------------------------------------------------------------------------------------\nlabel\n0.0    48878\n1.0       32\nName: count, dtype: int64\n----------------------------------------------------------------------------------------------------\nlabel\n0.0    48878\n1.0       32\nName: count, dtype: int64\n----------------------------------------------------------------------------------------------------\nlabel\n0.0    48878\n1.0       32\nName: count, dtype: int64\n----------------------------------------------------------------------------------------------------\n",
          "output_type": "stream"
        }
      ],
      "execution_count": null
    },
    {
      "cell_type": "markdown",
      "source": [
        "### MODELLING"
      ],
      "metadata": {
        "id": "PY2g-4yyuhO3"
      }
    },
    {
      "cell_type": "code",
      "source": [
        "new_test.isnull().sum()"
      ],
      "metadata": {
        "id": "MmKNl_CWz8B_",
        "outputId": "9533451a-edc3-420c-8a27-50eabf9f1bfd",
        "trusted": true,
        "execution": {
          "iopub.status.busy": "2025-02-17T11:03:12.001780Z",
          "iopub.execute_input": "2025-02-17T11:03:12.002099Z",
          "iopub.status.idle": "2025-02-17T11:03:12.376489Z",
          "shell.execute_reply.started": "2025-02-17T11:03:12.002069Z",
          "shell.execute_reply": "2025-02-17T11:03:12.375583Z"
        }
      },
      "outputs": [
        {
          "execution_count": 25,
          "output_type": "execute_result",
          "data": {
            "text/plain": "event_id                                 0\nprecipitation                            0\nlabel                               163520\nlocation_id                              0\nevent_idx                                0\n                                     ...  \nprecipitation_shift_363              81312\nprecipitation_next_shift_363         81312\nprecipitation_shift_364              81536\nprecipitation_next_shift_364         81536\nprecipitation_ewm_grouped_mean_7         0\nLength: 765, dtype: int64"
          },
          "metadata": {}
        }
      ],
      "execution_count": null
    },
    {
      "cell_type": "code",
      "source": [
        "\n",
        "indices_cols = [\n",
        "  'EVI_mean',\n",
        " 'EVI_median',\n",
        " 'EVI_std',\n",
        " 'MNDWI_mean',\n",
        " 'MNDWI_median',\n",
        " 'MNDWI_std',\n",
        " 'MSI_mean',\n",
        " 'MSI_median',\n",
        " 'MSI_std',\n",
        " 'NDVI_mean',\n",
        " 'NDVI_median',\n",
        " 'NDVI_std',\n",
        " 'NDWI_mean',\n",
        " 'NDWI_median',\n",
        " 'NDWI_std',\n",
        " 'Slope_mean',\n",
        " 'Slope_median',\n",
        " 'Slope_std',\n",
        "]\n",
        "\n",
        "selected_columns =['precipitation','flood_probability','event_binary', 'event_t', ] + [col for col in new_train if 'diff' in col or 'shift' in col or 'grouped' in col ]\n",
        "\n",
        "print(selected_columns)\n",
        "target_col = 'label'\n"
      ],
      "metadata": {
        "id": "Nc0a0S2xpNF3",
        "outputId": "b04a16a2-c2c3-470e-ecaf-4cf4c5979233",
        "trusted": true,
        "execution": {
          "iopub.status.busy": "2025-02-17T11:03:12.377366Z",
          "iopub.execute_input": "2025-02-17T11:03:12.377703Z",
          "iopub.status.idle": "2025-02-17T11:03:12.383445Z",
          "shell.execute_reply.started": "2025-02-17T11:03:12.377681Z",
          "shell.execute_reply": "2025-02-17T11:03:12.382556Z"
        }
      },
      "outputs": [
        {
          "name": "stdout",
          "text": "['precipitation', 'flood_probability', 'event_binary', 'event_t', 'rolling_previous_grouped_precipitation_mean_3_0', 'rolling_previous_grouped_precipitation_mean_4_0', 'rolling_previous_grouped_precipitation_mean_10_0', 'rolling_previous_grouped_precipitation_mean_20_0', 'rolling_previous_grouped_precipitation_mean_25_0', 'rolling_previous_grouped_precipitation_mean_30_0', 'rolling_previous_grouped_precipitation_mean_55_0', 'rolling_previous_grouped_precipitation_mean_60_0', 'rolling_previous_grouped_precipitation_mean_75_0', 'rolling_previous_grouped_precipitation_mean_296_0', 'precipitation_shift_1', 'precipitation_next_shift_1', 'precipitation_shift_2', 'precipitation_next_shift_2', 'precipitation_shift_3', 'precipitation_next_shift_3', 'precipitation_shift_4', 'precipitation_next_shift_4', 'precipitation_shift_5', 'precipitation_next_shift_5', 'precipitation_shift_6', 'precipitation_next_shift_6', 'precipitation_shift_7', 'precipitation_next_shift_7', 'precipitation_shift_8', 'precipitation_next_shift_8', 'precipitation_shift_9', 'precipitation_next_shift_9', 'precipitation_shift_10', 'precipitation_next_shift_10', 'precipitation_shift_11', 'precipitation_next_shift_11', 'precipitation_shift_12', 'precipitation_next_shift_12', 'precipitation_shift_13', 'precipitation_next_shift_13', 'precipitation_shift_14', 'precipitation_next_shift_14', 'precipitation_shift_15', 'precipitation_next_shift_15', 'precipitation_shift_16', 'precipitation_next_shift_16', 'precipitation_shift_17', 'precipitation_next_shift_17', 'precipitation_shift_18', 'precipitation_next_shift_18', 'precipitation_shift_19', 'precipitation_next_shift_19', 'precipitation_shift_20', 'precipitation_next_shift_20', 'precipitation_shift_21', 'precipitation_next_shift_21', 'precipitation_shift_22', 'precipitation_next_shift_22', 'precipitation_shift_23', 'precipitation_next_shift_23', 'precipitation_shift_24', 'precipitation_next_shift_24', 'precipitation_shift_25', 'precipitation_next_shift_25', 'precipitation_shift_26', 'precipitation_next_shift_26', 'precipitation_shift_27', 'precipitation_next_shift_27', 'precipitation_shift_28', 'precipitation_next_shift_28', 'precipitation_shift_29', 'precipitation_next_shift_29', 'precipitation_shift_30', 'precipitation_next_shift_30', 'precipitation_shift_31', 'precipitation_next_shift_31', 'precipitation_shift_32', 'precipitation_next_shift_32', 'precipitation_shift_33', 'precipitation_next_shift_33', 'precipitation_shift_34', 'precipitation_next_shift_34', 'precipitation_shift_35', 'precipitation_next_shift_35', 'precipitation_shift_36', 'precipitation_next_shift_36', 'precipitation_shift_37', 'precipitation_next_shift_37', 'precipitation_shift_38', 'precipitation_next_shift_38', 'precipitation_shift_39', 'precipitation_next_shift_39', 'precipitation_shift_40', 'precipitation_next_shift_40', 'precipitation_shift_41', 'precipitation_next_shift_41', 'precipitation_shift_42', 'precipitation_next_shift_42', 'precipitation_shift_43', 'precipitation_next_shift_43', 'precipitation_shift_44', 'precipitation_next_shift_44', 'precipitation_shift_45', 'precipitation_next_shift_45', 'precipitation_shift_46', 'precipitation_next_shift_46', 'precipitation_shift_47', 'precipitation_next_shift_47', 'precipitation_shift_48', 'precipitation_next_shift_48', 'precipitation_shift_49', 'precipitation_next_shift_49', 'precipitation_shift_50', 'precipitation_next_shift_50', 'precipitation_shift_51', 'precipitation_next_shift_51', 'precipitation_shift_52', 'precipitation_next_shift_52', 'precipitation_shift_53', 'precipitation_next_shift_53', 'precipitation_shift_54', 'precipitation_next_shift_54', 'precipitation_shift_55', 'precipitation_next_shift_55', 'precipitation_shift_56', 'precipitation_next_shift_56', 'precipitation_shift_57', 'precipitation_next_shift_57', 'precipitation_shift_58', 'precipitation_next_shift_58', 'precipitation_shift_59', 'precipitation_next_shift_59', 'precipitation_shift_60', 'precipitation_next_shift_60', 'precipitation_shift_61', 'precipitation_next_shift_61', 'precipitation_shift_62', 'precipitation_next_shift_62', 'precipitation_shift_63', 'precipitation_next_shift_63', 'precipitation_shift_64', 'precipitation_next_shift_64', 'precipitation_shift_65', 'precipitation_next_shift_65', 'precipitation_shift_66', 'precipitation_next_shift_66', 'precipitation_shift_67', 'precipitation_next_shift_67', 'precipitation_shift_68', 'precipitation_next_shift_68', 'precipitation_shift_69', 'precipitation_next_shift_69', 'precipitation_shift_70', 'precipitation_next_shift_70', 'precipitation_shift_71', 'precipitation_next_shift_71', 'precipitation_shift_72', 'precipitation_next_shift_72', 'precipitation_shift_73', 'precipitation_next_shift_73', 'precipitation_shift_74', 'precipitation_next_shift_74', 'precipitation_shift_75', 'precipitation_next_shift_75', 'precipitation_shift_76', 'precipitation_next_shift_76', 'precipitation_shift_77', 'precipitation_next_shift_77', 'precipitation_shift_78', 'precipitation_next_shift_78', 'precipitation_shift_79', 'precipitation_next_shift_79', 'precipitation_shift_80', 'precipitation_next_shift_80', 'precipitation_shift_81', 'precipitation_next_shift_81', 'precipitation_shift_82', 'precipitation_next_shift_82', 'precipitation_shift_83', 'precipitation_next_shift_83', 'precipitation_shift_84', 'precipitation_next_shift_84', 'precipitation_shift_85', 'precipitation_next_shift_85', 'precipitation_shift_86', 'precipitation_next_shift_86', 'precipitation_shift_87', 'precipitation_next_shift_87', 'precipitation_shift_88', 'precipitation_next_shift_88', 'precipitation_shift_89', 'precipitation_next_shift_89', 'precipitation_shift_90', 'precipitation_next_shift_90', 'precipitation_shift_91', 'precipitation_next_shift_91', 'precipitation_shift_92', 'precipitation_next_shift_92', 'precipitation_shift_93', 'precipitation_next_shift_93', 'precipitation_shift_94', 'precipitation_next_shift_94', 'precipitation_shift_95', 'precipitation_next_shift_95', 'precipitation_shift_96', 'precipitation_next_shift_96', 'precipitation_shift_97', 'precipitation_next_shift_97', 'precipitation_shift_98', 'precipitation_next_shift_98', 'precipitation_shift_99', 'precipitation_next_shift_99', 'precipitation_shift_100', 'precipitation_next_shift_100', 'precipitation_shift_101', 'precipitation_next_shift_101', 'precipitation_shift_102', 'precipitation_next_shift_102', 'precipitation_shift_103', 'precipitation_next_shift_103', 'precipitation_shift_104', 'precipitation_next_shift_104', 'precipitation_shift_105', 'precipitation_next_shift_105', 'precipitation_shift_106', 'precipitation_next_shift_106', 'precipitation_shift_107', 'precipitation_next_shift_107', 'precipitation_shift_108', 'precipitation_next_shift_108', 'precipitation_shift_109', 'precipitation_next_shift_109', 'precipitation_shift_110', 'precipitation_next_shift_110', 'precipitation_shift_111', 'precipitation_next_shift_111', 'precipitation_shift_112', 'precipitation_next_shift_112', 'precipitation_shift_113', 'precipitation_next_shift_113', 'precipitation_shift_114', 'precipitation_next_shift_114', 'precipitation_shift_115', 'precipitation_next_shift_115', 'precipitation_shift_116', 'precipitation_next_shift_116', 'precipitation_shift_117', 'precipitation_next_shift_117', 'precipitation_shift_118', 'precipitation_next_shift_118', 'precipitation_shift_119', 'precipitation_next_shift_119', 'precipitation_shift_120', 'precipitation_next_shift_120', 'precipitation_shift_121', 'precipitation_next_shift_121', 'precipitation_shift_122', 'precipitation_next_shift_122', 'precipitation_shift_123', 'precipitation_next_shift_123', 'precipitation_shift_124', 'precipitation_next_shift_124', 'precipitation_shift_125', 'precipitation_next_shift_125', 'precipitation_shift_126', 'precipitation_next_shift_126', 'precipitation_shift_127', 'precipitation_next_shift_127', 'precipitation_shift_128', 'precipitation_next_shift_128', 'precipitation_shift_129', 'precipitation_next_shift_129', 'precipitation_shift_130', 'precipitation_next_shift_130', 'precipitation_shift_131', 'precipitation_next_shift_131', 'precipitation_shift_132', 'precipitation_next_shift_132', 'precipitation_shift_133', 'precipitation_next_shift_133', 'precipitation_shift_134', 'precipitation_next_shift_134', 'precipitation_shift_135', 'precipitation_next_shift_135', 'precipitation_shift_136', 'precipitation_next_shift_136', 'precipitation_shift_137', 'precipitation_next_shift_137', 'precipitation_shift_138', 'precipitation_next_shift_138', 'precipitation_shift_139', 'precipitation_next_shift_139', 'precipitation_shift_140', 'precipitation_next_shift_140', 'precipitation_shift_141', 'precipitation_next_shift_141', 'precipitation_shift_142', 'precipitation_next_shift_142', 'precipitation_shift_143', 'precipitation_next_shift_143', 'precipitation_shift_144', 'precipitation_next_shift_144', 'precipitation_shift_145', 'precipitation_next_shift_145', 'precipitation_shift_146', 'precipitation_next_shift_146', 'precipitation_shift_147', 'precipitation_next_shift_147', 'precipitation_shift_148', 'precipitation_next_shift_148', 'precipitation_shift_149', 'precipitation_next_shift_149', 'precipitation_shift_150', 'precipitation_next_shift_150', 'precipitation_shift_151', 'precipitation_next_shift_151', 'precipitation_shift_152', 'precipitation_next_shift_152', 'precipitation_shift_153', 'precipitation_next_shift_153', 'precipitation_shift_154', 'precipitation_next_shift_154', 'precipitation_shift_155', 'precipitation_next_shift_155', 'precipitation_shift_156', 'precipitation_next_shift_156', 'precipitation_shift_157', 'precipitation_next_shift_157', 'precipitation_shift_158', 'precipitation_next_shift_158', 'precipitation_shift_159', 'precipitation_next_shift_159', 'precipitation_shift_160', 'precipitation_next_shift_160', 'precipitation_shift_161', 'precipitation_next_shift_161', 'precipitation_shift_162', 'precipitation_next_shift_162', 'precipitation_shift_163', 'precipitation_next_shift_163', 'precipitation_shift_164', 'precipitation_next_shift_164', 'precipitation_shift_165', 'precipitation_next_shift_165', 'precipitation_shift_166', 'precipitation_next_shift_166', 'precipitation_shift_167', 'precipitation_next_shift_167', 'precipitation_shift_168', 'precipitation_next_shift_168', 'precipitation_shift_169', 'precipitation_next_shift_169', 'precipitation_shift_170', 'precipitation_next_shift_170', 'precipitation_shift_171', 'precipitation_next_shift_171', 'precipitation_shift_172', 'precipitation_next_shift_172', 'precipitation_shift_173', 'precipitation_next_shift_173', 'precipitation_shift_174', 'precipitation_next_shift_174', 'precipitation_shift_175', 'precipitation_next_shift_175', 'precipitation_shift_176', 'precipitation_next_shift_176', 'precipitation_shift_177', 'precipitation_next_shift_177', 'precipitation_shift_178', 'precipitation_next_shift_178', 'precipitation_shift_179', 'precipitation_next_shift_179', 'precipitation_shift_180', 'precipitation_next_shift_180', 'precipitation_shift_181', 'precipitation_next_shift_181', 'precipitation_shift_182', 'precipitation_next_shift_182', 'precipitation_shift_183', 'precipitation_next_shift_183', 'precipitation_shift_184', 'precipitation_next_shift_184', 'precipitation_shift_185', 'precipitation_next_shift_185', 'precipitation_shift_186', 'precipitation_next_shift_186', 'precipitation_shift_187', 'precipitation_next_shift_187', 'precipitation_shift_188', 'precipitation_next_shift_188', 'precipitation_shift_189', 'precipitation_next_shift_189', 'precipitation_shift_190', 'precipitation_next_shift_190', 'precipitation_shift_191', 'precipitation_next_shift_191', 'precipitation_shift_192', 'precipitation_next_shift_192', 'precipitation_shift_193', 'precipitation_next_shift_193', 'precipitation_shift_194', 'precipitation_next_shift_194', 'precipitation_shift_195', 'precipitation_next_shift_195', 'precipitation_shift_196', 'precipitation_next_shift_196', 'precipitation_shift_197', 'precipitation_next_shift_197', 'precipitation_shift_198', 'precipitation_next_shift_198', 'precipitation_shift_199', 'precipitation_next_shift_199', 'precipitation_shift_200', 'precipitation_next_shift_200', 'precipitation_shift_201', 'precipitation_next_shift_201', 'precipitation_shift_202', 'precipitation_next_shift_202', 'precipitation_shift_203', 'precipitation_next_shift_203', 'precipitation_shift_204', 'precipitation_next_shift_204', 'precipitation_shift_205', 'precipitation_next_shift_205', 'precipitation_shift_206', 'precipitation_next_shift_206', 'precipitation_shift_207', 'precipitation_next_shift_207', 'precipitation_shift_208', 'precipitation_next_shift_208', 'precipitation_shift_209', 'precipitation_next_shift_209', 'precipitation_shift_210', 'precipitation_next_shift_210', 'precipitation_shift_211', 'precipitation_next_shift_211', 'precipitation_shift_212', 'precipitation_next_shift_212', 'precipitation_shift_213', 'precipitation_next_shift_213', 'precipitation_shift_214', 'precipitation_next_shift_214', 'precipitation_shift_215', 'precipitation_next_shift_215', 'precipitation_shift_216', 'precipitation_next_shift_216', 'precipitation_shift_217', 'precipitation_next_shift_217', 'precipitation_shift_218', 'precipitation_next_shift_218', 'precipitation_shift_219', 'precipitation_next_shift_219', 'precipitation_shift_220', 'precipitation_next_shift_220', 'precipitation_shift_221', 'precipitation_next_shift_221', 'precipitation_shift_222', 'precipitation_next_shift_222', 'precipitation_shift_223', 'precipitation_next_shift_223', 'precipitation_shift_224', 'precipitation_next_shift_224', 'precipitation_shift_225', 'precipitation_next_shift_225', 'precipitation_shift_226', 'precipitation_next_shift_226', 'precipitation_shift_227', 'precipitation_next_shift_227', 'precipitation_shift_228', 'precipitation_next_shift_228', 'precipitation_shift_229', 'precipitation_next_shift_229', 'precipitation_shift_230', 'precipitation_next_shift_230', 'precipitation_shift_231', 'precipitation_next_shift_231', 'precipitation_shift_232', 'precipitation_next_shift_232', 'precipitation_shift_233', 'precipitation_next_shift_233', 'precipitation_shift_234', 'precipitation_next_shift_234', 'precipitation_shift_235', 'precipitation_next_shift_235', 'precipitation_shift_236', 'precipitation_next_shift_236', 'precipitation_shift_237', 'precipitation_next_shift_237', 'precipitation_shift_238', 'precipitation_next_shift_238', 'precipitation_shift_239', 'precipitation_next_shift_239', 'precipitation_shift_240', 'precipitation_next_shift_240', 'precipitation_shift_241', 'precipitation_next_shift_241', 'precipitation_shift_242', 'precipitation_next_shift_242', 'precipitation_shift_243', 'precipitation_next_shift_243', 'precipitation_shift_244', 'precipitation_next_shift_244', 'precipitation_shift_245', 'precipitation_next_shift_245', 'precipitation_shift_246', 'precipitation_next_shift_246', 'precipitation_shift_247', 'precipitation_next_shift_247', 'precipitation_shift_248', 'precipitation_next_shift_248', 'precipitation_shift_249', 'precipitation_next_shift_249', 'precipitation_shift_250', 'precipitation_next_shift_250', 'precipitation_shift_251', 'precipitation_next_shift_251', 'precipitation_shift_252', 'precipitation_next_shift_252', 'precipitation_shift_253', 'precipitation_next_shift_253', 'precipitation_shift_254', 'precipitation_next_shift_254', 'precipitation_shift_255', 'precipitation_next_shift_255', 'precipitation_shift_256', 'precipitation_next_shift_256', 'precipitation_shift_257', 'precipitation_next_shift_257', 'precipitation_shift_258', 'precipitation_next_shift_258', 'precipitation_shift_259', 'precipitation_next_shift_259', 'precipitation_shift_260', 'precipitation_next_shift_260', 'precipitation_shift_261', 'precipitation_next_shift_261', 'precipitation_shift_262', 'precipitation_next_shift_262', 'precipitation_shift_263', 'precipitation_next_shift_263', 'precipitation_shift_264', 'precipitation_next_shift_264', 'precipitation_shift_265', 'precipitation_next_shift_265', 'precipitation_shift_266', 'precipitation_next_shift_266', 'precipitation_shift_267', 'precipitation_next_shift_267', 'precipitation_shift_268', 'precipitation_next_shift_268', 'precipitation_shift_269', 'precipitation_next_shift_269', 'precipitation_shift_270', 'precipitation_next_shift_270', 'precipitation_shift_271', 'precipitation_next_shift_271', 'precipitation_shift_272', 'precipitation_next_shift_272', 'precipitation_shift_273', 'precipitation_next_shift_273', 'precipitation_shift_274', 'precipitation_next_shift_274', 'precipitation_shift_275', 'precipitation_next_shift_275', 'precipitation_shift_276', 'precipitation_next_shift_276', 'precipitation_shift_277', 'precipitation_next_shift_277', 'precipitation_shift_278', 'precipitation_next_shift_278', 'precipitation_shift_279', 'precipitation_next_shift_279', 'precipitation_shift_280', 'precipitation_next_shift_280', 'precipitation_shift_281', 'precipitation_next_shift_281', 'precipitation_shift_282', 'precipitation_next_shift_282', 'precipitation_shift_283', 'precipitation_next_shift_283', 'precipitation_shift_284', 'precipitation_next_shift_284', 'precipitation_shift_285', 'precipitation_next_shift_285', 'precipitation_shift_286', 'precipitation_next_shift_286', 'precipitation_shift_287', 'precipitation_next_shift_287', 'precipitation_shift_288', 'precipitation_next_shift_288', 'precipitation_shift_289', 'precipitation_next_shift_289', 'precipitation_shift_290', 'precipitation_next_shift_290', 'precipitation_shift_291', 'precipitation_next_shift_291', 'precipitation_shift_292', 'precipitation_next_shift_292', 'precipitation_shift_293', 'precipitation_next_shift_293', 'precipitation_shift_294', 'precipitation_next_shift_294', 'precipitation_shift_295', 'precipitation_next_shift_295', 'precipitation_shift_296', 'precipitation_next_shift_296', 'precipitation_shift_297', 'precipitation_next_shift_297', 'precipitation_shift_298', 'precipitation_next_shift_298', 'precipitation_shift_299', 'precipitation_next_shift_299', 'precipitation_shift_300', 'precipitation_next_shift_300', 'precipitation_shift_301', 'precipitation_next_shift_301', 'precipitation_shift_302', 'precipitation_next_shift_302', 'precipitation_shift_303', 'precipitation_next_shift_303', 'precipitation_shift_304', 'precipitation_next_shift_304', 'precipitation_shift_305', 'precipitation_next_shift_305', 'precipitation_shift_306', 'precipitation_next_shift_306', 'precipitation_shift_307', 'precipitation_next_shift_307', 'precipitation_shift_308', 'precipitation_next_shift_308', 'precipitation_shift_309', 'precipitation_next_shift_309', 'precipitation_shift_310', 'precipitation_next_shift_310', 'precipitation_shift_311', 'precipitation_next_shift_311', 'precipitation_shift_312', 'precipitation_next_shift_312', 'precipitation_shift_313', 'precipitation_next_shift_313', 'precipitation_shift_314', 'precipitation_next_shift_314', 'precipitation_shift_315', 'precipitation_next_shift_315', 'precipitation_shift_316', 'precipitation_next_shift_316', 'precipitation_shift_317', 'precipitation_next_shift_317', 'precipitation_shift_318', 'precipitation_next_shift_318', 'precipitation_shift_319', 'precipitation_next_shift_319', 'precipitation_shift_320', 'precipitation_next_shift_320', 'precipitation_shift_321', 'precipitation_next_shift_321', 'precipitation_shift_322', 'precipitation_next_shift_322', 'precipitation_shift_323', 'precipitation_next_shift_323', 'precipitation_shift_324', 'precipitation_next_shift_324', 'precipitation_shift_325', 'precipitation_next_shift_325', 'precipitation_shift_326', 'precipitation_next_shift_326', 'precipitation_shift_327', 'precipitation_next_shift_327', 'precipitation_shift_328', 'precipitation_next_shift_328', 'precipitation_shift_329', 'precipitation_next_shift_329', 'precipitation_shift_330', 'precipitation_next_shift_330', 'precipitation_shift_331', 'precipitation_next_shift_331', 'precipitation_shift_332', 'precipitation_next_shift_332', 'precipitation_shift_333', 'precipitation_next_shift_333', 'precipitation_shift_334', 'precipitation_next_shift_334', 'precipitation_shift_335', 'precipitation_next_shift_335', 'precipitation_shift_336', 'precipitation_next_shift_336', 'precipitation_shift_337', 'precipitation_next_shift_337', 'precipitation_shift_338', 'precipitation_next_shift_338', 'precipitation_shift_339', 'precipitation_next_shift_339', 'precipitation_shift_340', 'precipitation_next_shift_340', 'precipitation_shift_341', 'precipitation_next_shift_341', 'precipitation_shift_342', 'precipitation_next_shift_342', 'precipitation_shift_343', 'precipitation_next_shift_343', 'precipitation_shift_344', 'precipitation_next_shift_344', 'precipitation_shift_345', 'precipitation_next_shift_345', 'precipitation_shift_346', 'precipitation_next_shift_346', 'precipitation_shift_347', 'precipitation_next_shift_347', 'precipitation_shift_348', 'precipitation_next_shift_348', 'precipitation_shift_349', 'precipitation_next_shift_349', 'precipitation_shift_350', 'precipitation_next_shift_350', 'precipitation_shift_351', 'precipitation_next_shift_351', 'precipitation_shift_352', 'precipitation_next_shift_352', 'precipitation_shift_353', 'precipitation_next_shift_353', 'precipitation_shift_354', 'precipitation_next_shift_354', 'precipitation_shift_355', 'precipitation_next_shift_355', 'precipitation_shift_356', 'precipitation_next_shift_356', 'precipitation_shift_357', 'precipitation_next_shift_357', 'precipitation_shift_358', 'precipitation_next_shift_358', 'precipitation_shift_359', 'precipitation_next_shift_359', 'precipitation_shift_360', 'precipitation_next_shift_360', 'precipitation_shift_361', 'precipitation_next_shift_361', 'precipitation_shift_362', 'precipitation_next_shift_362', 'precipitation_shift_363', 'precipitation_next_shift_363', 'precipitation_shift_364', 'precipitation_next_shift_364', 'precipitation_ewm_grouped_mean_7']\n",
          "output_type": "stream"
        }
      ],
      "execution_count": null
    },
    {
      "cell_type": "code",
      "source": [
        "import xgboost as xgb\n",
        "best_xgb_params = {'learning_rate': 0.022142109262777827, 'max_depth': 10, 'min_child_weight': 7, 'subsample': 0.6550406903808851, 'colsample_bytree': 0.8965125085579588, 'reg_alpha': 0.013482319772385369, 'reg_lambda': 8.402426446836273, 'gamma': 0.11928104232846079, 'n_estimators': 1000,\n",
        "        \"objective\": \"binary:logistic\",\n",
        "        \"eval_metric\": \"logloss\",\n",
        "        \"booster\": \"gbtree\",\n",
        "        \"verbosity\": 0,\n",
        "        \"random_state\": 42,\n",
        "        \"use_label_encoder\": False,\n",
        "        \"tree_method\": \"gpu_hist\",  # Use GPU\n",
        "        \"gpu_id\": 0\n",
        "                  }\n",
        "\n",
        "# Reduce memory usage\n",
        "def reduce_memory_usage(df):\n",
        "    for col in df.select_dtypes(include=[\"int\", \"float\"]).columns:\n",
        "        df[col] = pd.to_numeric(df[col], downcast=\"integer\" if df[col].dtype == \"int\" else \"float\")\n",
        "    return df\n",
        "\n",
        "new_train = reduce_memory_usage(new_train)\n",
        "new_test = reduce_memory_usage(new_test)\n",
        "\n",
        "\n",
        "# Initialize arrays\n",
        "oof_preds = np.zeros(len(new_train))\n",
        "avg_preds = np.zeros(len(new_test))  # Running mean instead of storing all fold predictions\n",
        "loglosses = []\n",
        "\n",
        "# K-Fold Training\n",
        "for fold in range(n_splits):\n",
        "    print(f\"==== TRAINING FOLD {fold+1} ====\")\n",
        "\n",
        "    training = new_train[new_train['fold'] != fold]\n",
        "    validation = new_train[new_train['fold'] == fold]\n",
        "\n",
        "    y_train, y_val = training[target_col], validation[target_col]\n",
        "    X_train, X_val = training[selected_columns], validation[selected_columns]\n",
        "\n",
        "    # Convert to DMatrix for memory efficiency\n",
        "    dtrain = xgb.DMatrix(X_train, label=y_train)\n",
        "    dval = xgb.DMatrix(X_val, label=y_val)\n",
        "    dtest = xgb.DMatrix(new_test[selected_columns])  # No need to store multiple copies\n",
        "\n",
        "    # Train XGBoost with early stopping\n",
        "    model = xgb.train(\n",
        "        best_xgb_params, dtrain,\n",
        "        num_boost_round=1000,\n",
        "        evals=[(dval, \"validation\")],\n",
        "        early_stopping_rounds=50,\n",
        "        verbose_eval=250\n",
        "    )\n",
        "\n",
        "    # Out-of-Fold Predictions\n",
        "    oof_preds[validation.index] = model.predict(dval)\n",
        "\n",
        "    # Log loss for this fold\n",
        "    loss = log_loss(y_val, oof_preds[validation.index])\n",
        "    loglosses.append(loss)\n",
        "    print(f\"Logloss: {loss}\")\n",
        "\n",
        "    # Incremental Test Predictions (avoiding full history storage)\n",
        "    avg_preds += model.predict(dtest) / n_splits\n",
        "\n",
        "# Compute Final Metrics\n",
        "new_train['oof_xgb'] = oof_preds\n",
        "print(f\"Mean logloss: {np.mean(loglosses)}\")\n",
        "print(f\"OOF logloss: {log_loss(new_train['label'], new_train['oof_xgb'])}\")\n",
        "print(f\"OOF roc_auc: {roc_auc_score(new_train['label'], new_train['oof_xgb'])}\")\n",
        "\n",
        "# Save Final Submission\n",
        "new_test['xgb_preds'] = avg_preds\n",
        "new_test[['event_id', 'xgb_preds']].to_csv(\"xgb_avg.csv\", index=False)\n",
        "print(\"Saved final predictions to 'xgb_avg.csv'\")\n"
      ],
      "metadata": {
        "trusted": true,
        "execution": {
          "iopub.status.busy": "2025-02-17T11:03:12.384386Z",
          "iopub.execute_input": "2025-02-17T11:03:12.384732Z",
          "iopub.status.idle": "2025-02-17T11:16:02.172012Z",
          "shell.execute_reply.started": "2025-02-17T11:03:12.384701Z",
          "shell.execute_reply": "2025-02-17T11:16:02.171051Z"
        },
        "id": "lrDZ6wgPgNtX",
        "outputId": "622a8925-c92f-4311-ff86-88b820b712fa"
      },
      "outputs": [
        {
          "name": "stdout",
          "text": "==== TRAINING FOLD 1 ====\n[0]\tvalidation-logloss:0.12558\n[250]\tvalidation-logloss:0.00334\n[500]\tvalidation-logloss:0.00243\n[750]\tvalidation-logloss:0.00231\n[999]\tvalidation-logloss:0.00230\nLogloss: 0.0022978726262536794\n==== TRAINING FOLD 2 ====\n[0]\tvalidation-logloss:0.12558\n[250]\tvalidation-logloss:0.00337\n[500]\tvalidation-logloss:0.00234\n[750]\tvalidation-logloss:0.00216\n[933]\tvalidation-logloss:0.00213\nLogloss: 0.002126848372724706\n==== TRAINING FOLD 3 ====\n[0]\tvalidation-logloss:0.12558\n[250]\tvalidation-logloss:0.00334\n[500]\tvalidation-logloss:0.00258\n[750]\tvalidation-logloss:0.00248\n[822]\tvalidation-logloss:0.00248\nLogloss: 0.002480430967050219\n==== TRAINING FOLD 4 ====\n[0]\tvalidation-logloss:0.12556\n[250]\tvalidation-logloss:0.00338\n[500]\tvalidation-logloss:0.00268\n[714]\tvalidation-logloss:0.00262\nLogloss: 0.0026169614856670818\n==== TRAINING FOLD 5 ====\n[0]\tvalidation-logloss:0.12560\n[250]\tvalidation-logloss:0.00324\n[500]\tvalidation-logloss:0.00237\n[750]\tvalidation-logloss:0.00223\n[986]\tvalidation-logloss:0.00219\nLogloss: 0.0021936538658822143\n==== TRAINING FOLD 6 ====\n[0]\tvalidation-logloss:0.12556\n[250]\tvalidation-logloss:0.00340\n[500]\tvalidation-logloss:0.00281\n[712]\tvalidation-logloss:0.00277\nLogloss: 0.002766150413994492\n==== TRAINING FOLD 7 ====\n[0]\tvalidation-logloss:0.12558\n[250]\tvalidation-logloss:0.00330\n[500]\tvalidation-logloss:0.00244\n[750]\tvalidation-logloss:0.00234\n[816]\tvalidation-logloss:0.00234\nLogloss: 0.002343962598837786\n==== TRAINING FOLD 8 ====\n[0]\tvalidation-logloss:0.12560\n[250]\tvalidation-logloss:0.00297\n[500]\tvalidation-logloss:0.00200\n[750]\tvalidation-logloss:0.00185\n[975]\tvalidation-logloss:0.00182\nLogloss: 0.001821049003719071\n==== TRAINING FOLD 9 ====\n[0]\tvalidation-logloss:0.12560\n[250]\tvalidation-logloss:0.00327\n[500]\tvalidation-logloss:0.00249\n[750]\tvalidation-logloss:0.00243\n[917]\tvalidation-logloss:0.00242\nLogloss: 0.002423263307748963\n==== TRAINING FOLD 10 ====\n[0]\tvalidation-logloss:0.12560\n[250]\tvalidation-logloss:0.00349\n[500]\tvalidation-logloss:0.00256\n[750]\tvalidation-logloss:0.00240\n[937]\tvalidation-logloss:0.00238\nLogloss: 0.0023810364314851666\nMean logloss: 0.0023451229073363383\nOOF logloss: 0.0023449279858756863\nOOF roc_auc: 0.9937248833208251\nSaved final predictions to 'xgb_avg.csv'\n",
          "output_type": "stream"
        }
      ],
      "execution_count": null
    },
    {
      "cell_type": "code",
      "source": [
        "from sklearn.metrics import log_loss\n",
        "\n",
        "print(f\"logloss before normalizing: {log_loss(new_train['label'], new_train['oof_xgb'])}\")\n",
        "\n",
        "locations_to_normalize = new_train[new_train['flood_probability'] >= 0.5]['location_id'].unique()\n",
        "new_train['oof_sum_prob'] = new_train.groupby('location_id')['oof_xgb'].transform('sum')\n",
        "\n",
        "# Avoid division by zero\n",
        "epsilon = 1e-8\n",
        "new_train['oof_xgb_norm'] = new_train['oof_xgb']  # Copy original values\n",
        "\n",
        "new_train.loc[new_train['location_id'].isin(locations_to_normalize), 'oof_xgb_norm'] = (\n",
        "    new_train.loc[new_train['location_id'].isin(locations_to_normalize), 'oof_xgb'] /\n",
        "    (new_train.loc[new_train['location_id'].isin(locations_to_normalize), 'oof_sum_prob'] + epsilon)\n",
        ")\n",
        "\n",
        "print(f\"logloss after normalizing: {log_loss(new_train['label'], new_train['oof_xgb_norm'])}\")\n"
      ],
      "metadata": {
        "id": "xtVfU8CCNSJP",
        "outputId": "f1290400-73e7-4a3b-ab22-dbac90fa7e64",
        "trusted": true,
        "execution": {
          "iopub.status.busy": "2025-02-17T11:16:02.173011Z",
          "iopub.execute_input": "2025-02-17T11:16:02.173324Z",
          "iopub.status.idle": "2025-02-17T11:16:03.246441Z",
          "shell.execute_reply.started": "2025-02-17T11:16:02.173294Z",
          "shell.execute_reply": "2025-02-17T11:16:03.245626Z"
        }
      },
      "outputs": [
        {
          "name": "stdout",
          "text": "logloss before normalizing: 0.0023449279858756863\nlogloss after normalizing: 0.002254103740081869\n",
          "output_type": "stream"
        }
      ],
      "execution_count": null
    },
    {
      "cell_type": "code",
      "source": [
        "new_train[['event_id', 'location_id', 'event_t', 'flood_probability','label','oof_xgb', ]].to_csv(\"xgb_train_with_oof.csv\", index=False)\n",
        "new_test[['event_id', 'location_id', 'event_t', 'flood_probability','label','xgb_preds']].to_csv(\"xgb_test_with_oof.csv\", index=False)"
      ],
      "metadata": {
        "trusted": true,
        "execution": {
          "iopub.status.busy": "2025-02-17T11:16:03.247330Z",
          "iopub.execute_input": "2025-02-17T11:16:03.247658Z",
          "iopub.status.idle": "2025-02-17T11:16:05.748199Z",
          "shell.execute_reply.started": "2025-02-17T11:16:03.247626Z",
          "shell.execute_reply": "2025-02-17T11:16:05.747541Z"
        },
        "id": "bp14o37pgNtY"
      },
      "outputs": [],
      "execution_count": null
    },
    {
      "cell_type": "markdown",
      "source": [
        "### Normalize the predictions Based on the Flood probability"
      ],
      "metadata": {
        "id": "J7DP6mpdgNtY"
      }
    },
    {
      "cell_type": "code",
      "source": [
        "locations_to_normalize = new_test[new_test['flood_probability'] >= 0.7]['location_id'].unique()\n",
        "new_test['oof_sum_prob'] = new_test.groupby('location_id')['xgb_preds'].transform('sum')\n",
        "\n",
        "# Avoid division by zero\n",
        "epsilon = 1e-8\n",
        "new_test['xgb_preds_norm'] = new_test['xgb_preds']  # Copy original values\n",
        "\n",
        "new_test.loc[new_test['location_id'].isin(locations_to_normalize), 'xgb_preds_norm'] = (\n",
        "    new_test.loc[new_test['location_id'].isin(locations_to_normalize), 'xgb_preds'] /\n",
        "    (new_test.loc[new_test['location_id'].isin(locations_to_normalize), 'oof_sum_prob'] + epsilon)\n",
        ")\n",
        "\n",
        "new_test.head()"
      ],
      "metadata": {
        "trusted": true,
        "execution": {
          "iopub.status.busy": "2025-02-17T11:16:05.748980Z",
          "iopub.execute_input": "2025-02-17T11:16:05.749181Z",
          "iopub.status.idle": "2025-02-17T11:16:06.053070Z",
          "shell.execute_reply.started": "2025-02-17T11:16:05.749165Z",
          "shell.execute_reply": "2025-02-17T11:16:06.052006Z"
        },
        "id": "unsHUGzSgNtY",
        "outputId": "96419ae2-8980-4e56-ef78-bbe97d3d8ac2"
      },
      "outputs": [
        {
          "execution_count": 30,
          "output_type": "execute_result",
          "data": {
            "text/plain": "              event_id  precipitation  label      location_id  event_idx  \\\n0  id_066zz28m11mr_X_0            0.0    NaN  id_066zz28m11mr        118   \n1  id_066zz28m11mr_X_1            0.0    NaN  id_066zz28m11mr        118   \n2  id_066zz28m11mr_X_2            0.0    NaN  id_066zz28m11mr        118   \n3  id_066zz28m11mr_X_3            0.0    NaN  id_066zz28m11mr        118   \n4  id_066zz28m11mr_X_4            0.0    NaN  id_066zz28m11mr        118   \n\n   event_t  flood_probability  NDVI_mean  NDVI_median  NDVI_std  ...  \\\n0        0           0.013285   0.081579     0.079895  0.023026  ...   \n1        1           0.013285   0.081579     0.079895  0.023026  ...   \n2        2           0.013285   0.081579     0.079895  0.023026  ...   \n3        3           0.013285   0.081579     0.079895  0.023026  ...   \n4        4           0.013285   0.081579     0.079895  0.023026  ...   \n\n   precipitation_shift_362  precipitation_next_shift_362  \\\n0                      NaN                           0.0   \n1                      NaN                           0.0   \n2                      NaN                           0.0   \n3                      NaN                           0.0   \n4                      NaN                           0.0   \n\n   precipitation_shift_363  precipitation_next_shift_363  \\\n0                      NaN                           0.0   \n1                      NaN                           0.0   \n2                      NaN                           0.0   \n3                      NaN                           0.0   \n4                      NaN                           0.0   \n\n   precipitation_shift_364  precipitation_next_shift_364  \\\n0                      NaN                           0.0   \n1                      NaN                           0.0   \n2                      NaN                           0.0   \n3                      NaN                           0.0   \n4                      NaN                           0.0   \n\n   precipitation_ewm_grouped_mean_7     xgb_preds  oof_sum_prob  \\\n0                               0.0  1.087669e-06      0.023547   \n1                               0.0  1.006576e-06      0.023547   \n2                               0.0  9.249869e-07      0.023547   \n3                               0.0  9.703568e-07      0.023547   \n4                               0.0  7.492933e-07      0.023547   \n\n   xgb_preds_norm  \n0    1.087669e-06  \n1    1.006576e-06  \n2    9.249869e-07  \n3    9.703568e-07  \n4    7.492933e-07  \n\n[5 rows x 768 columns]",
            "text/html": "<div>\n<style scoped>\n    .dataframe tbody tr th:only-of-type {\n        vertical-align: middle;\n    }\n\n    .dataframe tbody tr th {\n        vertical-align: top;\n    }\n\n    .dataframe thead th {\n        text-align: right;\n    }\n</style>\n<table border=\"1\" class=\"dataframe\">\n  <thead>\n    <tr style=\"text-align: right;\">\n      <th></th>\n      <th>event_id</th>\n      <th>precipitation</th>\n      <th>label</th>\n      <th>location_id</th>\n      <th>event_idx</th>\n      <th>event_t</th>\n      <th>flood_probability</th>\n      <th>NDVI_mean</th>\n      <th>NDVI_median</th>\n      <th>NDVI_std</th>\n      <th>...</th>\n      <th>precipitation_shift_362</th>\n      <th>precipitation_next_shift_362</th>\n      <th>precipitation_shift_363</th>\n      <th>precipitation_next_shift_363</th>\n      <th>precipitation_shift_364</th>\n      <th>precipitation_next_shift_364</th>\n      <th>precipitation_ewm_grouped_mean_7</th>\n      <th>xgb_preds</th>\n      <th>oof_sum_prob</th>\n      <th>xgb_preds_norm</th>\n    </tr>\n  </thead>\n  <tbody>\n    <tr>\n      <th>0</th>\n      <td>id_066zz28m11mr_X_0</td>\n      <td>0.0</td>\n      <td>NaN</td>\n      <td>id_066zz28m11mr</td>\n      <td>118</td>\n      <td>0</td>\n      <td>0.013285</td>\n      <td>0.081579</td>\n      <td>0.079895</td>\n      <td>0.023026</td>\n      <td>...</td>\n      <td>NaN</td>\n      <td>0.0</td>\n      <td>NaN</td>\n      <td>0.0</td>\n      <td>NaN</td>\n      <td>0.0</td>\n      <td>0.0</td>\n      <td>1.087669e-06</td>\n      <td>0.023547</td>\n      <td>1.087669e-06</td>\n    </tr>\n    <tr>\n      <th>1</th>\n      <td>id_066zz28m11mr_X_1</td>\n      <td>0.0</td>\n      <td>NaN</td>\n      <td>id_066zz28m11mr</td>\n      <td>118</td>\n      <td>1</td>\n      <td>0.013285</td>\n      <td>0.081579</td>\n      <td>0.079895</td>\n      <td>0.023026</td>\n      <td>...</td>\n      <td>NaN</td>\n      <td>0.0</td>\n      <td>NaN</td>\n      <td>0.0</td>\n      <td>NaN</td>\n      <td>0.0</td>\n      <td>0.0</td>\n      <td>1.006576e-06</td>\n      <td>0.023547</td>\n      <td>1.006576e-06</td>\n    </tr>\n    <tr>\n      <th>2</th>\n      <td>id_066zz28m11mr_X_2</td>\n      <td>0.0</td>\n      <td>NaN</td>\n      <td>id_066zz28m11mr</td>\n      <td>118</td>\n      <td>2</td>\n      <td>0.013285</td>\n      <td>0.081579</td>\n      <td>0.079895</td>\n      <td>0.023026</td>\n      <td>...</td>\n      <td>NaN</td>\n      <td>0.0</td>\n      <td>NaN</td>\n      <td>0.0</td>\n      <td>NaN</td>\n      <td>0.0</td>\n      <td>0.0</td>\n      <td>9.249869e-07</td>\n      <td>0.023547</td>\n      <td>9.249869e-07</td>\n    </tr>\n    <tr>\n      <th>3</th>\n      <td>id_066zz28m11mr_X_3</td>\n      <td>0.0</td>\n      <td>NaN</td>\n      <td>id_066zz28m11mr</td>\n      <td>118</td>\n      <td>3</td>\n      <td>0.013285</td>\n      <td>0.081579</td>\n      <td>0.079895</td>\n      <td>0.023026</td>\n      <td>...</td>\n      <td>NaN</td>\n      <td>0.0</td>\n      <td>NaN</td>\n      <td>0.0</td>\n      <td>NaN</td>\n      <td>0.0</td>\n      <td>0.0</td>\n      <td>9.703568e-07</td>\n      <td>0.023547</td>\n      <td>9.703568e-07</td>\n    </tr>\n    <tr>\n      <th>4</th>\n      <td>id_066zz28m11mr_X_4</td>\n      <td>0.0</td>\n      <td>NaN</td>\n      <td>id_066zz28m11mr</td>\n      <td>118</td>\n      <td>4</td>\n      <td>0.013285</td>\n      <td>0.081579</td>\n      <td>0.079895</td>\n      <td>0.023026</td>\n      <td>...</td>\n      <td>NaN</td>\n      <td>0.0</td>\n      <td>NaN</td>\n      <td>0.0</td>\n      <td>NaN</td>\n      <td>0.0</td>\n      <td>0.0</td>\n      <td>7.492933e-07</td>\n      <td>0.023547</td>\n      <td>7.492933e-07</td>\n    </tr>\n  </tbody>\n</table>\n<p>5 rows × 768 columns</p>\n</div>"
          },
          "metadata": {}
        }
      ],
      "execution_count": null
    },
    {
      "cell_type": "code",
      "source": [
        "\n",
        "mod_sub = new_test[['event_id', 'xgb_preds_norm']]\n",
        "mod_sub.head()"
      ],
      "metadata": {
        "trusted": true,
        "execution": {
          "iopub.status.busy": "2025-02-17T11:16:06.053932Z",
          "iopub.execute_input": "2025-02-17T11:16:06.054191Z",
          "iopub.status.idle": "2025-02-17T11:16:06.064422Z",
          "shell.execute_reply.started": "2025-02-17T11:16:06.054168Z",
          "shell.execute_reply": "2025-02-17T11:16:06.063735Z"
        },
        "id": "BoYHN6AhgNtY",
        "outputId": "a8f7d0db-576c-42c5-95a1-cb9ade908d37"
      },
      "outputs": [
        {
          "execution_count": 31,
          "output_type": "execute_result",
          "data": {
            "text/plain": "              event_id  xgb_preds_norm\n0  id_066zz28m11mr_X_0    1.087669e-06\n1  id_066zz28m11mr_X_1    1.006576e-06\n2  id_066zz28m11mr_X_2    9.249869e-07\n3  id_066zz28m11mr_X_3    9.703568e-07\n4  id_066zz28m11mr_X_4    7.492933e-07",
            "text/html": "<div>\n<style scoped>\n    .dataframe tbody tr th:only-of-type {\n        vertical-align: middle;\n    }\n\n    .dataframe tbody tr th {\n        vertical-align: top;\n    }\n\n    .dataframe thead th {\n        text-align: right;\n    }\n</style>\n<table border=\"1\" class=\"dataframe\">\n  <thead>\n    <tr style=\"text-align: right;\">\n      <th></th>\n      <th>event_id</th>\n      <th>xgb_preds_norm</th>\n    </tr>\n  </thead>\n  <tbody>\n    <tr>\n      <th>0</th>\n      <td>id_066zz28m11mr_X_0</td>\n      <td>1.087669e-06</td>\n    </tr>\n    <tr>\n      <th>1</th>\n      <td>id_066zz28m11mr_X_1</td>\n      <td>1.006576e-06</td>\n    </tr>\n    <tr>\n      <th>2</th>\n      <td>id_066zz28m11mr_X_2</td>\n      <td>9.249869e-07</td>\n    </tr>\n    <tr>\n      <th>3</th>\n      <td>id_066zz28m11mr_X_3</td>\n      <td>9.703568e-07</td>\n    </tr>\n    <tr>\n      <th>4</th>\n      <td>id_066zz28m11mr_X_4</td>\n      <td>7.492933e-07</td>\n    </tr>\n  </tbody>\n</table>\n</div>"
          },
          "metadata": {}
        }
      ],
      "execution_count": null
    },
    {
      "cell_type": "code",
      "source": [
        "mod_sub.to_csv(\"xgb_modified.csv\", index = False)"
      ],
      "metadata": {
        "trusted": true,
        "execution": {
          "iopub.status.busy": "2025-02-17T11:16:06.065257Z",
          "iopub.execute_input": "2025-02-17T11:16:06.065552Z",
          "iopub.status.idle": "2025-02-17T11:16:06.419787Z",
          "shell.execute_reply.started": "2025-02-17T11:16:06.065525Z",
          "shell.execute_reply": "2025-02-17T11:16:06.418891Z"
        },
        "id": "2BFDNdb4gNtY"
      },
      "outputs": [],
      "execution_count": null
    },
    {
      "cell_type": "code",
      "source": [],
      "metadata": {
        "trusted": true,
        "id": "kYtW0AnQgNtZ"
      },
      "outputs": [],
      "execution_count": null
    }
  ]
}